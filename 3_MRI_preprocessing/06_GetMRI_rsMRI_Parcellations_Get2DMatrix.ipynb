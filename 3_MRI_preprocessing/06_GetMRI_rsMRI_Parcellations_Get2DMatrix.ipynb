{
 "cells": [
  {
   "cell_type": "code",
   "execution_count": null,
   "metadata": {},
   "outputs": [],
   "source": [
    "import csv\n",
    "import os\n",
    "import warnings\n",
    "import pickle\n",
    "import pandas as pd\n",
    "import numpy as np"
   ]
  },
  {
   "cell_type": "markdown",
   "metadata": {},
   "source": [
    "In a flattened array, we have a lower triangular part WITHOUT diagonal. Therefore, we need to fill in the upper triangular part and add diagonal values which will be = 1\n",
    "This is because niliearn vectorized matrices itself as follows: https://nilearn.github.io/stable/modules/generated/nilearn.connectome.ConnectivityMeasure.html"
   ]
  },
  {
   "cell_type": "markdown",
   "metadata": {},
   "source": [
    "# Get 2D matrix from 1D array and add labels: Glasser + MSA-IV"
   ]
  },
  {
   "cell_type": "markdown",
   "metadata": {},
   "source": [
    "# Here I do it for 5 subjects, but you can do for all (just dont have enough RAM)"
   ]
  },
  {
   "cell_type": "code",
   "execution_count": null,
   "metadata": {},
   "outputs": [],
   "source": [
    "# Upload csv\n",
    "glasser_Tian_s4_fcorr = pd.read_csv('/ML_DATASETS/Brain/rsMRI/bulk_timeseries/matrices/glasser/glasser_Tian_s4_arrays_full_correlation.csv', nrows = 3)\n",
    "glasser_Tian_s4_fcorr_id = glasser_Tian_s4_fcorr['Unnamed: 0']\n",
    "glasser_Tian_s4_fcorr = glasser_Tian_s4_fcorr.drop(columns='Unnamed: 0')"
   ]
  },
  {
   "cell_type": "code",
   "execution_count": null,
   "metadata": {},
   "outputs": [],
   "source": [
    "# Transform 1D array into 2D matrix\n",
    "vectorized_array = glasser_Tian_s4_fcorr.to_numpy()[0]\n",
    "matrix_size = int(np.ceil((1 + np.sqrt(1 + 8 * len(vectorized_array))) / 2))\n",
    "glasser_Tian_s4_matrix = np.zeros((matrix_size, matrix_size))\n",
    "index = 0\n",
    "for i in range(1, matrix_size):\n",
    "    for j in range(i):\n",
    "        glasser_Tian_s4_matrix[i, j] = vectorized_array[index]\n",
    "        index += 1\n",
    "\n",
    "# Mirror the lower triangular part to the upper triangular part\n",
    "glasser_Tian_s4_matrix += glasser_Tian_s4_matrix.T\n",
    "\n",
    "# Add a diagonal of 1s\n",
    "np.fill_diagonal(glasser_Tian_s4_matrix, 1)\n",
    "glasser_Tian_s4_matrix"
   ]
  },
  {
   "cell_type": "markdown",
   "metadata": {},
   "source": [
    "### Get label names from a timeseries file"
   ]
  },
  {
   "cell_type": "code",
   "execution_count": null,
   "metadata": {},
   "outputs": [],
   "source": [
    "# Timeseries file, if needed\n",
    "with open('/ML_DATASETS/Brain/rsMRI/bulk_timeseries/merged_dict/glasser/glasser_Tian_s4_dict_df.pkl', \"rb\") as a:\n",
    "    glasser_Tian_s4_timeseries = pickle.load(a)\n",
    "labels = list(glasser_Tian_s4_timeseries.values())[0]['label_name'].to_list()"
   ]
  },
  {
   "cell_type": "markdown",
   "metadata": {},
   "source": [
    "### Add labels to the matrix"
   ]
  },
  {
   "cell_type": "code",
   "execution_count": null,
   "metadata": {},
   "outputs": [],
   "source": [
    "glasser_Tian_s4_fcorr_matrix_labels = pd.DataFrame(glasser_Tian_s4_matrix, columns = labels, index = labels)\n",
    "glasser_Tian_s4_fcorr_matrix_labels"
   ]
  },
  {
   "cell_type": "markdown",
   "metadata": {},
   "source": [
    "##############################################################################################"
   ]
  },
  {
   "cell_type": "markdown",
   "metadata": {},
   "source": [
    "# An example for Schaefer17n100p + MSA-I which does not have labels inside a main dictionary"
   ]
  },
  {
   "cell_type": "code",
   "execution_count": null,
   "metadata": {},
   "outputs": [],
   "source": [
    "# Upload csv\n",
    "Schaefer17n100p_tian_s1_fcorr = pd.read_csv('/ML_DATASETS/Brain/rsMRI/bulk_timeseries/matrices/Schaefer/17n/Schaefer17n100p_tian_s1_arrays_full_correlation.csv')\n",
    "Schaefer17n100p_tian_s1_fcorr_id = Schaefer17n100p_tian_s1_fcorr['Unnamed: 0']\n",
    "Schaefer17n100p_tian_s1_fcorr = Schaefer17n100p_tian_s1_fcorr.drop(columns='Unnamed: 0')"
   ]
  },
  {
   "cell_type": "code",
   "execution_count": null,
   "metadata": {},
   "outputs": [],
   "source": [
    "Schaefer17n100p_tian_s1_fcorr"
   ]
  },
  {
   "cell_type": "markdown",
   "metadata": {},
   "source": [
    "Transform 1D array into 2D matrix"
   ]
  },
  {
   "cell_type": "code",
   "execution_count": null,
   "metadata": {},
   "outputs": [],
   "source": [
    "# Transform 1D array into 2D matrix\n",
    "vectorized_array = Schaefer17n100p_tian_s1_fcorr.to_numpy()[0]\n",
    "matrix_size = int(np.ceil((1 + np.sqrt(1 + 8 * len(vectorized_array))) / 2))\n",
    "# alternatively: n = int((1 + np.sqrt(1 + 8 * len(lower_triangular))) / 2)\n",
    "Schaefer17n100p_tian_s1_fcorr_matrix = np.zeros((matrix_size, matrix_size))\n",
    "index = 0\n",
    "for i in range(1, matrix_size):\n",
    "    for j in range(i):\n",
    "        Schaefer17n100p_tian_s1_fcorr_matrix[i, j] = vectorized_array[index]\n",
    "        index += 1\n",
    "\n",
    "# Mirror the lower triangular part to the upper triangular part\n",
    "Schaefer17n100p_tian_s1_fcorr_matrix += Schaefer17n100p_tian_s1_fcorr_matrix.T\n",
    "\n",
    "# Add a diagonal of 1s\n",
    "np.fill_diagonal(Schaefer17n100p_tian_s1_fcorr_matrix, 1)\n",
    "Schaefer17n100p_tian_s1_fcorr_matrix"
   ]
  },
  {
   "cell_type": "code",
   "execution_count": null,
   "metadata": {},
   "outputs": [],
   "source": [
    "# Alternative way\n",
    "# Fill the lower triangular part of the matrix\n",
    "tril_indices = np.tril_indices(n, -1)\n",
    "Schaefer17n100p_tian_s1_fcorr_matrix[tril_indices] = vectorized_array\n",
    "\n",
    "# Since the matrix is symmetric, copy the lower triangular part to the upper triangular part\n",
    "matrix = Schaefer17n100p_tian_s1_fcorr_matrix + Schaefer17n100p_tian_s1_fcorr_matrix.T"
   ]
  },
  {
   "cell_type": "markdown",
   "metadata": {},
   "source": [
    "### Get label names from a timeseries file"
   ]
  },
  {
   "cell_type": "code",
   "execution_count": null,
   "metadata": {},
   "outputs": [],
   "source": [
    "# Upload timeseries file: cortical\n",
    "with open('/ML_DATASETS/Brain/rsMRI/bulk_timeseries/Schaefer/timeseries_Schaefer17n100p_full_dict.pkl', \"rb\") as a:\n",
    "    timeseries_Schaefer17n100p_full_dict = pickle.load(a)\n",
    "timeseries_Schaefer17n100p_full_dict"
   ]
  },
  {
   "cell_type": "code",
   "execution_count": null,
   "metadata": {},
   "outputs": [],
   "source": [
    "cortical_labels = list(timeseries_Schaefer17n100p_full_dict.values())[0]['label_name']\n",
    "cortical_labels"
   ]
  },
  {
   "cell_type": "code",
   "execution_count": null,
   "metadata": {},
   "outputs": [],
   "source": [
    "# Upload timeseries file: subcortical\n",
    "timeseries_Tian_s1_full_dict = np.load('/ML_DATASETS/Brain/rsMRI/bulk_timeseries/timeseries_tian_s1_full_dict.npy', allow_pickle=True).item()\n",
    "subcortical_labels = list(timeseries_Tian_s1_full_dict.values())[0]['label_name']\n",
    "subcortical_labels"
   ]
  },
  {
   "cell_type": "markdown",
   "metadata": {},
   "source": [
    "Convert labels to list and combine them nicely"
   ]
  },
  {
   "cell_type": "code",
   "execution_count": null,
   "metadata": {},
   "outputs": [],
   "source": [
    "Schaefer17n100p_tian_s1_labels = subcortical_labels.to_list()\n",
    "Schaefer17n100p_tian_s1_labels.append(cortical_labels.to_list())"
   ]
  },
  {
   "cell_type": "code",
   "execution_count": null,
   "metadata": {},
   "outputs": [],
   "source": [
    "Schaefer17n100p_tian_s1_labels_list = []\n",
    "for item in Schaefer17n100p_tian_s1_labels:\n",
    "    if isinstance(item, list):\n",
    "        Schaefer17n100p_tian_s1_labels_list.extend(item)\n",
    "    else:\n",
    "        Schaefer17n100p_tian_s1_labels_list.append(item)"
   ]
  },
  {
   "cell_type": "markdown",
   "metadata": {},
   "source": [
    "### Add labels to the matrix"
   ]
  },
  {
   "cell_type": "code",
   "execution_count": null,
   "metadata": {},
   "outputs": [],
   "source": [
    "Schaefer17n100p_tian_s1_fcorr_matrix_labels = pd.DataFrame(Schaefer17n100p_tian_s1_fcorr_matrix, columns = Schaefer17n100p_tian_s1_labels_list, index = Schaefer17n100p_tian_s1_labels_list)\n",
    "Schaefer17n100p_tian_s1_fcorr_matrix_labels"
   ]
  },
  {
   "cell_type": "code",
   "execution_count": null,
   "metadata": {},
   "outputs": [],
   "source": [
    "Schaefer17n100p_tian_s1_fcorr_matrix_labels"
   ]
  },
  {
   "cell_type": "markdown",
   "metadata": {},
   "source": [
    "#### *You can also extract label names for a 1D array and add them to the array as column names"
   ]
  },
  {
   "cell_type": "markdown",
   "metadata": {},
   "source": [
    "Get label names"
   ]
  },
  {
   "cell_type": "code",
   "execution_count": null,
   "metadata": {},
   "outputs": [],
   "source": [
    "# Get combinations of label names: way 1\n",
    "data_frame = list(glasser_Tian_s4_timeseries.values())[0]\n",
    "label_names = data_frame.iloc[:, 0].tolist()\n",
    "\n",
    "pairwise_combinations = []\n",
    "\n",
    "# Generate the pairwise combinations in the specified order\n",
    "for i in range(1, len(label_names)):\n",
    "    for j in range(i):\n",
    "        pairwise_combinations.append(f\"{label_names[i]} & {label_names[j]}\")\n",
    "for combination in pairwise_combinations:\n",
    "    print(combination)\n",
    "pairwise_combinations_df = pd.DataFrame(pairwise_combinations)\n",
    "pairwise_combinations_df[0]"
   ]
  },
  {
   "cell_type": "code",
   "execution_count": null,
   "metadata": {},
   "outputs": [],
   "source": [
    "# Get combinations of label names: way 2\n",
    "from itertools import combinations\n",
    "pairwise_combinations = list(combinations(label_names, 2))\n",
    "\n",
    "# Print the pairwise combinations\n",
    "for pair in pairwise_combinations:\n",
    "    print(f\"{pair[0]} & {pair[1]}\")"
   ]
  }
 ],
 "metadata": {
  "kernelspec": {
   "display_name": "ukbiobank_py11",
   "language": "python",
   "name": "python3"
  },
  "language_info": {
   "codemirror_mode": {
    "name": "ipython",
    "version": 3
   },
   "file_extension": ".py",
   "mimetype": "text/x-python",
   "name": "python",
   "nbconvert_exporter": "python",
   "pygments_lexer": "ipython3",
   "version": "3.11.7"
  }
 },
 "nbformat": 4,
 "nbformat_minor": 2
}
