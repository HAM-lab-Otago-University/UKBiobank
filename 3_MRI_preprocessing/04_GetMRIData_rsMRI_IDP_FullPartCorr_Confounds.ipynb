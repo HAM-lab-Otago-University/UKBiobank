{
 "cells": [
  {
   "cell_type": "code",
   "execution_count": null,
   "metadata": {},
   "outputs": [],
   "source": [
    "import csv\n",
    "import os\n",
    "import glob\n",
    "import datetime\n",
    "import pandas as pd\n",
    "import numpy as np\n",
    "import scipy.stats as ss\n",
    "import time\n",
    "from datetime import date, datetime\n",
    "\n",
    "from scipy import stats\n",
    "import matplotlib.pyplot as plt\n",
    "from matplotlib.ticker import FormatStrFormatter, MultipleLocator, AutoMinorLocator, MaxNLocator, FixedLocator\n",
    "import sklearn\n",
    "import seaborn as sns\n",
    "import textwrap \n",
    "import warnings\n",
    "import skbold\n",
    "from scipy.stats import pearsonr\n",
    "from skbold.preproc import ConfoundRegressor\n",
    "from sklearn.model_selection import KFold\n",
    "from sklearn.preprocessing import StandardScaler\n",
    "from sklearn.cross_decomposition import PLSRegression\n",
    "from sklearn.model_selection import GridSearchCV\n",
    "from sklearn.metrics import mean_squared_error, mean_absolute_error, r2_score\n",
    "\n",
    "\n",
    "import ukbiobank.utils.utils\n",
    "from ukbiobank.utils import fieldNamesToIds\n",
    "from ukbiobank.utils import loadCsv\n",
    "from ukbiobank.utils import addFields\n",
    "from ukbiobank.utils.utils import getFieldnames\n",
    "from ukbiobank.utils.utils import fieldIdsToNames"
   ]
  },
  {
   "cell_type": "markdown",
   "metadata": {},
   "source": [
    "## Resting State"
   ]
  },
  {
   "cell_type": "markdown",
   "metadata": {},
   "source": [
    "1. Amplitudes\n",
    "2. Nodes timeseries => \n",
    "- full correlation matrix\n",
    "- partial correlation matrix\n",
    "- tangent transformation\n",
    "\n",
    "21 out of 25 and 55 out of 100 'good' components"
   ]
  },
  {
   "cell_type": "markdown",
   "metadata": {},
   "source": [
    "# 1. Get RS amplitudes"
   ]
  },
  {
   "cell_type": "markdown",
   "metadata": {},
   "source": [
    "## 21 IC"
   ]
  },
  {
   "cell_type": "code",
   "execution_count": null,
   "metadata": {},
   "outputs": [],
   "source": [
    "path = \"/Resting_State/rsfMRI_matrices/rfMRI-amplitudes-21-25754/\"\n",
    "# Change the directory \n",
    "os.chdir(path) \n",
    "my_files = glob.glob(path + \"*.txt\")\n",
    "\n",
    "file_names = []\n",
    "# Loop over the file list and get the base name of each file\n",
    "for file in my_files:\n",
    "    # Use os.path.basename to get the file name without the directory\n",
    "    file_name = os.path.basename(file)\n",
    "    # Append the file name to the list\n",
    "    file_names.append(file_name)\n",
    "\n",
    "# Print the list of file names\n",
    "print(file_names)"
   ]
  },
  {
   "cell_type": "code",
   "execution_count": null,
   "metadata": {},
   "outputs": [],
   "source": [
    "file_names_df = pd.DataFrame(file_names)\n",
    "file_names_df.columns = ['filenames']\n",
    "file_names_df_sorted = file_names_df.sort_values(by='filenames', ascending=True).reset_index(drop=True)\n",
    "file_names_df_sorted"
   ]
  },
  {
   "cell_type": "code",
   "execution_count": null,
   "metadata": {},
   "outputs": [],
   "source": [
    "eid_list = []\n",
    "for file in file_names:\n",
    "    parts = file.split(\"_\")\n",
    "    # Get the first element of the list\n",
    "    eid = parts[0]\n",
    "    eid_list.append(eid)\n",
    "\n",
    "eid = pd.DataFrame(eid_list)\n",
    "eid.columns = ['ID']\n",
    "eid_sorted = eid.sort_values(by='ID', ascending=True).reset_index(drop=True)\n",
    "eid_sorted_list = eid_sorted.values.tolist()"
   ]
  },
  {
   "cell_type": "markdown",
   "metadata": {},
   "source": [
    "Save file names"
   ]
  },
  {
   "cell_type": "code",
   "execution_count": null,
   "metadata": {},
   "outputs": [],
   "source": [
    "# DF with full file names\n",
    "file_names_df.to_csv(\"/Resting_State/rsfMRI_matrices/amplitudes_tables/21/rfMRI-amplitudes-21-25754_file_names_full_not_sorted.csv\", index=False)\n",
    "# DF with full file names sorted in an ascending order\n",
    "file_names_df_sorted.to_csv(\"/Resting_State/rsfMRI_matrices/amplitudes_tables/21/rfMRI-amplitudes-21-25754_file_names_full_sorted.csv\", index=False)\n",
    "# DF with ID\n",
    "eid.to_csv(\"/Resting_State/rsfMRI_matrices/amplitudes_tables/21/rfMRI-amplitudes-21-25754_file_names_ID_dataframe_not_sorted.csv\", index=False)\n",
    "# DF with ID sorted\n",
    "eid_sorted.to_csv(\"/Resting_State/rsfMRI_matrices/amplitudes_tables/21/rfMRI-amplitudes-21-25754_file_names_ID_dataframe_sorted.csv\", index=False)"
   ]
  },
  {
   "cell_type": "markdown",
   "metadata": {},
   "source": [
    "Read one participant to see what's inside"
   ]
  },
  {
   "cell_type": "code",
   "execution_count": null,
   "metadata": {},
   "outputs": [],
   "source": [
    "p1 = pd.read_csv(\"/Resting_State/rsfMRI_matrices/rfMRI-amplitudes-21-25754/5440077_25754_2_0.txt\", sep=\" \", header=None)\n",
    "file_name = os.path.basename(\"/Resting_State/rsfMRI_matrices/rfMRI-amplitudes-21-25754/5440077_25754_2_0.txt\")\n",
    "prefix = \"Component\"\n",
    "p1.columns = [ f'{prefix} {i+1} amplitude' for i in range(p1.shape[1]) ]\n",
    "#file_name = file_name.split(\".\")[0]\n",
    "p1.index = [file_name.split(\".\")[0]]\n",
    "#p1.index = [file_name]\n",
    "p1"
   ]
  },
  {
   "cell_type": "markdown",
   "metadata": {},
   "source": [
    "### Assemble amplitude files into one data frame"
   ]
  },
  {
   "cell_type": "code",
   "execution_count": null,
   "metadata": {},
   "outputs": [],
   "source": [
    "folder_path = \"/Resting_State/rsfMRI_matrices/rfMRI-amplitudes-21-25754/\"\n",
    "file_names_5000 = file_names_df_sorted[\"filenames\"][0:5000]\n",
    "# Do all the same for other files\n",
    "file_names_5001_10000 = file_names_df_sorted[\"filenames\"][5000:10000]\n",
    "file_names_10001_15000 = file_names_df_sorted[\"filenames\"][10000:15000]\n",
    "file_names_15001_20000 = file_names_df_sorted[\"filenames\"][15000:20000]\n",
    "file_names_20001_25000 = file_names_df_sorted[\"filenames\"][20000:25000]\n",
    "file_names_25001_30000 = file_names_df_sorted[\"filenames\"][25000:30000]\n",
    "file_names_30001_35000 = file_names_df_sorted[\"filenames\"][30000:35000]\n",
    "file_names_35001_40000 = file_names_df_sorted[\"filenames\"][35000:40000]\n",
    "file_names_40001_45000 = file_names_df_sorted[\"filenames\"][40000:45000]\n",
    "file_names_45001_49239 = file_names_df_sorted[\"filenames\"][45000:]\n",
    "\n",
    "participants = []\n",
    "\n",
    "# Loop over the values in the filenames column of the data frame\n",
    "for file_name in file_names_5000: # file_names_df_sorted_5[\"filenames\"]:\n",
    "    # Create the full file path by joining the folder path and the file name\n",
    "    file_path = os.path.join(folder_path, file_name)\n",
    "    # Read the file into a data frame\n",
    "    p = pd.read_csv(file_path, sep=\"\\\\s+\", header=None)\n",
    "    # Create a list of column names\n",
    "    prefix = \"Component\"\n",
    "    p.columns = [ f'{prefix} {i+1} Amplitude' for i in range(p.shape[1]) ]\n",
    "    # Set the index of the data frame using the file name or a part of it\n",
    "    p.index = [file_name.split(\".\")[0]]\n",
    "    #p.reset_index(drop=True, inplace=True)\n",
    "    # Append the data frame to the list\n",
    "    participants.append(p)\n",
    "\n",
    "# Concatenate all the data frames in the list into one big data frame along the column axis\n",
    "amplitudes_5000 = pd.concat(participants, axis=0)\n",
    "\n",
    "# Save the big data frame as a CSV file\n",
    "amplitudes_5000.to_csv(\"/Resting_State/rsfMRI_matrices/amplitudes_tables/21/amplitudes_5000.csv\")"
   ]
  },
  {
   "cell_type": "markdown",
   "metadata": {},
   "source": [
    "When saving csv, set index to false or index_col=0 to avoid writing index name as a new column"
   ]
  },
  {
   "cell_type": "code",
   "execution_count": null,
   "metadata": {},
   "outputs": [],
   "source": [
    "#file_names_df_sorted['filenames'].index.get_loc(\"1521364_25754_2_0.txt\")\n",
    "#print(file_names_df_sorted['filenames'].index.tolist())\n",
    "\n",
    "# Get the id of the subject in the 4000th row\n",
    "subject_id = file_names_df_sorted[\"filenames\"].iloc[39999]\n",
    "\n",
    "# Check if it matches the desired id\n",
    "if subject_id == \"5080093_25754_2_0.txt\":\n",
    "    print(\"The subject is in the row\")\n",
    "else:\n",
    "    print(\"The subject is not in the row\")\n"
   ]
  },
  {
   "cell_type": "code",
   "execution_count": null,
   "metadata": {},
   "outputs": [],
   "source": [
    "amplitudes_5000 = pd.read_csv(\"/Resting_State/rsfMRI_matrices/amplitudes_tables/21/amplitudes_5000.csv\")\n",
    "amplitudes_5000.rename(columns={\"Unnamed: 0\": \"ID\"}, inplace=True)\n",
    "\n",
    "amplitudes_10000 = pd.read_csv(\"/Resting_State/rsfMRI_matrices/amplitudes_tables/21/amplitudes_10000.csv\")\n",
    "amplitudes_10000.rename(columns={\"Unnamed: 0\": \"ID\"}, inplace=True)\n",
    "\n",
    "amplitudes_15000 = pd.read_csv(\"/Resting_State/rsfMRI_matrices/amplitudes_tables/21/amplitudes_15000.csv\")\n",
    "amplitudes_15000.rename(columns={\"Unnamed: 0\": \"ID\"}, inplace=True)\n",
    "\n",
    "amplitudes_20000 = pd.read_csv(\"/Resting_State/rsfMRI_matrices/amplitudes_tables/21/amplitudes_20000.csv\")\n",
    "amplitudes_20000.rename(columns={\"Unnamed: 0\": \"ID\"}, inplace=True)\n",
    "\n",
    "amplitudes_25000 = pd.read_csv(\"/Resting_State/rsfMRI_matrices/amplitudes_tables/21/amplitudes_25000.csv\")\n",
    "amplitudes_25000.rename(columns={\"Unnamed: 0\": \"ID\"}, inplace=True)\n",
    "\n",
    "amplitudes_30000 = pd.read_csv(\"/Resting_State/rsfMRI_matrices/amplitudes_tables/21/amplitudes_30000.csv\")\n",
    "amplitudes_30000.rename(columns={\"Unnamed: 0\": \"ID\"}, inplace=True)\n",
    "\n",
    "amplitudes_35000 = pd.read_csv(\"/Resting_State/rsfMRI_matrices/amplitudes_tables/21/amplitudes_35000.csv\")\n",
    "amplitudes_35000.rename(columns={\"Unnamed: 0\": \"ID\"}, inplace=True)\n",
    "\n",
    "amplitudes_40000 = pd.read_csv(\"/Resting_State/rsfMRI_matrices/amplitudes_tables/21/amplitudes_40000.csv\")\n",
    "amplitudes_40000.rename(columns={\"Unnamed: 0\": \"ID\"}, inplace=True)\n",
    "\n",
    "amplitudes_45000 = pd.read_csv(\"/Resting_State/rsfMRI_matrices/amplitudes_tables/21/amplitudes_45000.csv\")\n",
    "amplitudes_45000.rename(columns={\"Unnamed: 0\": \"ID\"}, inplace=True)\n",
    "\n",
    "amplitudes_49239 = pd.read_csv(\"/Resting_State/rsfMRI_matrices/amplitudes_tables/21/amplitudes_49239.csv\")\n",
    "amplitudes_49239.rename(columns={\"Unnamed: 0\": \"ID\"}, inplace=True)"
   ]
  },
  {
   "cell_type": "code",
   "execution_count": null,
   "metadata": {},
   "outputs": [],
   "source": [
    "print(amplitudes_5000.shape, amplitudes_10000.shape, amplitudes_15000.shape, amplitudes_20000.shape, amplitudes_25000.shape,\n",
    "amplitudes_30000.shape, amplitudes_35000.shape, amplitudes_40000.shape, amplitudes_45000.shape, amplitudes_49239.shape)"
   ]
  },
  {
   "cell_type": "markdown",
   "metadata": {},
   "source": [
    "Read in and concatenate files"
   ]
  },
  {
   "cell_type": "code",
   "execution_count": null,
   "metadata": {},
   "outputs": [],
   "source": [
    "amplitudes_5000 = pd.read_csv(\"/Resting_State/rsfMRI_matrices/amplitudes_tables/21/amplitudes_5000.csv\", index_col=0)\n",
    "amplitudes_10000 = pd.read_csv(\"/Resting_State/rsfMRI_matrices/amplitudes_tables/21/amplitudes_10000.csv\", index_col=0)\n",
    "amplitudes_15000 = pd.read_csv(\"/Resting_State/rsfMRI_matrices/amplitudes_tables/21/amplitudes_15000.csv\", index_col=0)\n",
    "amplitudes_20000 = pd.read_csv(\"/Resting_State/rsfMRI_matrices/amplitudes_tables/21/amplitudes_20000.csv\", index_col=0)\n",
    "amplitudes_25000 = pd.read_csv(\"/Resting_State/rsfMRI_matrices/amplitudes_tables/21/amplitudes_25000.csv\", index_col=0)\n",
    "amplitudes_30000 = pd.read_csv(\"/Resting_State/rsfMRI_matrices/amplitudes_tables/21/amplitudes_30000.csv\", index_col=0)\n",
    "amplitudes_35000 = pd.read_csv(\"/Resting_State/rsfMRI_matrices/amplitudes_tables/21/amplitudes_35000.csv\", index_col=0)\n",
    "amplitudes_40000 = pd.read_csv(\"/Resting_State/rsfMRI_matrices/amplitudes_tables/21/amplitudes_40000.csv\", index_col=0)\n",
    "amplitudes_45000 = pd.read_csv(\"/Resting_State/rsfMRI_matrices/amplitudes_tables/21/amplitudes_45000.csv\", index_col=0)\n",
    "amplitudes_49238 = pd.read_csv(\"/Resting_State/rsfMRI_matrices/amplitudes_tables/21/amplitudes_49239.csv\", index_col=0)"
   ]
  },
  {
   "cell_type": "code",
   "execution_count": null,
   "metadata": {},
   "outputs": [],
   "source": [
    "amplitudes_full = pd.concat([amplitudes_5000, amplitudes_10000, amplitudes_15000, amplitudes_20000, amplitudes_25000,\n",
    "amplitudes_30000, amplitudes_35000, amplitudes_40000, amplitudes_45000, amplitudes_49239], axis=0, ignore_index=True)\n",
    "amplitudes_full.to_csv(\"/Resting_State/rsfMRI_matrices/amplitudes_tables/21/amplitudes_full.csv\")"
   ]
  },
  {
   "cell_type": "markdown",
   "metadata": {},
   "source": [
    "Exclude Instance 3"
   ]
  },
  {
   "cell_type": "code",
   "execution_count": null,
   "metadata": {},
   "outputs": [],
   "source": [
    "amplitudes_full_instance_2 = amplitudes_full[~amplitudes_full[\"ID\"].str.contains('_25754_3_0')].reset_index(drop=True)\n",
    "# Extract ID number\n",
    "amplitudes_fin = amplitudes_full_instance_2.copy()\n",
    "amplitudes_fin['ID'] = amplitudes_fin['ID'].str.split(\"_\").str[0].astype(int)\n",
    "# Save\n",
    "amplitudes_fin.to_csv(\"/Resting_State/rsfMRI_matrices/amplitudes_tables/21/amplitudes_21_fin_CLEAN.csv\")\n",
    "amplitudes_21 = amplitudes_fin.copy()"
   ]
  },
  {
   "cell_type": "markdown",
   "metadata": {},
   "source": [
    "## 55 IC"
   ]
  },
  {
   "cell_type": "code",
   "execution_count": null,
   "metadata": {},
   "outputs": [],
   "source": [
    "path = \"/Resting_State/rsfMRI_matrices/rfMRI-amplitudes-55-25755/\"\n",
    "# Change the directory \n",
    "os.chdir(path) \n",
    "my_files = glob.glob(path + \"*.txt\")\n",
    "\n",
    "file_names_55 = []\n",
    "\n",
    "# Loop over the file list and get the base name of each file\n",
    "for file in my_files:\n",
    "    # Use os.path.basename to get the file name without the directory\n",
    "    file_name = os.path.basename(file)\n",
    "    # Append the file name to the list\n",
    "    file_names_55.append(file_name)\n",
    "\n",
    "# Print the list of file names\n",
    "print(file_names_55)\n",
    "\n",
    "# Make a data frame\n",
    "file_names_55_df = pd.DataFrame(file_names_55)\n",
    "file_names_55_df.columns = ['filenames']\n",
    "file_names_55_df_sorted = file_names_55_df.sort_values(by='filenames', ascending=True).reset_index(drop=True)\n",
    "file_names_55_df_sorted\n",
    "\n",
    "eid_list = []\n",
    "for file in file_names_55:\n",
    "    parts = file.split(\"_\")\n",
    "    # Get the first element of the list\n",
    "    eid = parts[0]\n",
    "    eid_list.append(eid)\n",
    "\n",
    "eid = pd.DataFrame(eid_list)\n",
    "eid.columns = ['ID']\n",
    "eid_sorted = eid.sort_values(by='ID', ascending=True).reset_index(drop=True)\n",
    "eid_sorted_list = eid_sorted.values.tolist()\n",
    "eid_sorted_list"
   ]
  },
  {
   "cell_type": "code",
   "execution_count": null,
   "metadata": {},
   "outputs": [],
   "source": [
    "# DF with full file names\n",
    "file_names_55_df.to_csv(\"/Resting_State/rsfMRI_matrices/amplitudes_tables/55/rfMRI-amplitudes-55-25755_file_names_full_not_sorted.csv\")\n",
    "# DF with full file names sorted in an ascending order\n",
    "file_names_55_df_sorted.to_csv(\"/Resting_State/rsfMRI_matrices/amplitudes_tables/55/rfMRI-amplitudes-55-25755_file_names_full_sorted.csv\")\n",
    "# DF with ID\n",
    "eid.to_csv(\"/Resting_State/rsfMRI_matrices/amplitudes_tables/55/rfMRI-amplitudes-55-25755_file_names_ID_dataframe_not_sorted.csv\")\n",
    "# DF with ID sorted\n",
    "eid_sorted.to_csv(\"/Resting_State/rsfMRI_matrices/amplitudes_tables/55/rfMRI-amplitudes-55-25755_file_names_ID_dataframe_sorted.csv\")"
   ]
  },
  {
   "cell_type": "markdown",
   "metadata": {},
   "source": [
    "### Assemble amplitude files into one data frame"
   ]
  },
  {
   "cell_type": "code",
   "execution_count": null,
   "metadata": {},
   "outputs": [],
   "source": [
    "folder_path = \"/Resting_State/rsfMRI_matrices/rfMRI-amplitudes-55-25755/\"\n",
    "\n",
    "file_names_5000 = file_names_55_df_sorted[\"filenames\"][0:5000]\n",
    "# Do all the same for other files\n",
    "file_names_5000 = file_names_55_df_sorted[\"filenames\"][0:5000]\n",
    "file_names_10000 = file_names_55_df_sorted[\"filenames\"][5000:10000]\n",
    "file_names_15000 = file_names_55_df_sorted[\"filenames\"][10000:15000]\n",
    "file_names_20000 = file_names_55_df_sorted[\"filenames\"][15000:20000]\n",
    "file_names_25000 = file_names_55_df_sorted[\"filenames\"][20000:25000]\n",
    "file_names_30000 = file_names_55_df_sorted[\"filenames\"][25000:30000]\n",
    "file_names_35000 = file_names_55_df_sorted[\"filenames\"][30000:35000]\n",
    "file_names_40000 = file_names_55_df_sorted[\"filenames\"][35000:40000]\n",
    "file_names_45000 = file_names_55_df_sorted[\"filenames\"][40000:45000]\n",
    "file_names_49239 = file_names_55_df_sorted[\"filenames\"][45000:]\n",
    "\n",
    "participants = []\n",
    "\n",
    "# Loop over the values in the filenames column of the data frame\n",
    "for file_name in file_names_5000: # file_names_df_sorted_5[\"filenames\"]:\n",
    "    # Create the full file path by joining the folder path and the file name\n",
    "    file_path = os.path.join(folder_path, file_name)\n",
    "    # Read the file into a data frame\n",
    "    p = pd.read_csv(file_path, sep=\"\\\\s+\", header=None)\n",
    "    # Create a list of column names\n",
    "    prefix = \"Component\"\n",
    "    p.columns = [ f'{prefix} {i+1} Amplitude (55 IC)' for i in range(p.shape[1]) ]\n",
    "    # Set the index of the data frame using the file name or a part of it\n",
    "    p.index = [file_name.split(\".\")[0]]\n",
    "    #p.reset_index(drop=True, inplace=True)\n",
    "    # Append the data frame to the list\n",
    "    participants.append(p)\n",
    "\n",
    "# Concatenate all the data frames in the list into one big data frame along the column axis\n",
    "amplitudes_5000 = pd.concat(participants, axis=0)\n",
    "\n",
    "# Save the big data frame as a CSV file\n",
    "amplitudes_5000.to_csv(\"/Resting_State/rsfMRI_matrices/amplitudes_tables/55/amplitudes_5000.csv\") # Set index to false or index_col=0 to avoid \n"
   ]
  },
  {
   "cell_type": "code",
   "execution_count": null,
   "metadata": {},
   "outputs": [],
   "source": [
    "amplitudes_5000 = pd.read_csv(\"/Resting_State/rsfMRI_matrices/amplitudes_tables/55/amplitudes_5000.csv\")\n",
    "amplitudes_5000.rename(columns={\"Unnamed: 0\": \"ID\"}, inplace=True)\n",
    "\n",
    "amplitudes_10000 = pd.read_csv(\"/Resting_State/rsfMRI_matrices/amplitudes_tables/55/amplitudes_10000.csv\")\n",
    "amplitudes_10000.rename(columns={\"Unnamed: 0\": \"ID\"}, inplace=True)\n",
    "\n",
    "amplitudes_15000 = pd.read_csv(\"/Resting_State/rsfMRI_matrices/amplitudes_tables/55/amplitudes_15000.csv\")\n",
    "amplitudes_15000.rename(columns={\"Unnamed: 0\": \"ID\"}, inplace=True)\n",
    "\n",
    "amplitudes_20000 = pd.read_csv(\"/Resting_State/rsfMRI_matrices/amplitudes_tables/55/amplitudes_20000.csv\")\n",
    "amplitudes_20000.rename(columns={\"Unnamed: 0\": \"ID\"}, inplace=True)\n",
    "\n",
    "amplitudes_25000 = pd.read_csv(\"/Resting_State/rsfMRI_matrices/amplitudes_tables/55/amplitudes_25000.csv\")\n",
    "amplitudes_25000.rename(columns={\"Unnamed: 0\": \"ID\"}, inplace=True)\n",
    "\n",
    "amplitudes_30000 = pd.read_csv(\"/Resting_State/rsfMRI_matrices/amplitudes_tables/55/amplitudes_30000.csv\")\n",
    "amplitudes_30000.rename(columns={\"Unnamed: 0\": \"ID\"}, inplace=True)\n",
    "\n",
    "amplitudes_35000 = pd.read_csv(\"/Resting_State/rsfMRI_matrices/amplitudes_tables/55/amplitudes_35000.csv\")\n",
    "amplitudes_35000.rename(columns={\"Unnamed: 0\": \"ID\"}, inplace=True)\n",
    "\n",
    "amplitudes_40000 = pd.read_csv(\"/Resting_State/rsfMRI_matrices/amplitudes_tables/55/amplitudes_40000.csv\")\n",
    "amplitudes_40000.rename(columns={\"Unnamed: 0\": \"ID\"}, inplace=True)\n",
    "\n",
    "amplitudes_45000 = pd.read_csv(\"/Resting_State/rsfMRI_matrices/amplitudes_tables/55/amplitudes_45000.csv\")\n",
    "amplitudes_45000.rename(columns={\"Unnamed: 0\": \"ID\"}, inplace=True)\n",
    "\n",
    "amplitudes_49239 = pd.read_csv(\"/Resting_State/rsfMRI_matrices/amplitudes_tables/55/amplitudes_49239.csv\")\n",
    "amplitudes_49239.rename(columns={\"Unnamed: 0\": \"ID\"}, inplace=True)\n",
    "\n",
    "# df = pd.read_csv(\"your_file.csv\", index_col=0, names=[\"ID\"] + list(df.columns[1:]))"
   ]
  },
  {
   "cell_type": "code",
   "execution_count": null,
   "metadata": {},
   "outputs": [],
   "source": [
    "print(amplitudes_5000.shape, amplitudes_10000.shape, amplitudes_15000.shape, amplitudes_20000.shape, amplitudes_25000.shape,\n",
    "amplitudes_30000.shape, amplitudes_35000.shape, amplitudes_40000.shape, amplitudes_45000.shape, amplitudes_49239.shape)"
   ]
  },
  {
   "cell_type": "code",
   "execution_count": null,
   "metadata": {},
   "outputs": [],
   "source": [
    "amplitudes_full_55 = pd.concat([amplitudes_5000, amplitudes_10000, amplitudes_15000, amplitudes_20000, amplitudes_25000,\n",
    "amplitudes_30000, amplitudes_35000, amplitudes_40000, amplitudes_45000, amplitudes_49239], axis=0, ignore_index=True)\n",
    "amplitudes_full_55.to_csv(\"/Resting_State/rsfMRI_matrices/amplitudes_full_55.csv\")"
   ]
  },
  {
   "cell_type": "code",
   "execution_count": null,
   "metadata": {},
   "outputs": [],
   "source": [
    "# Exclude Instance 3\n",
    "amplitudes_full_instance_2_55 = amplitudes_full_55[~amplitudes_full_55[\"ID\"].str.contains('_25755_3_0')].reset_index(drop=True)\n",
    "# Extract ID number\n",
    "amplitudes_fin_55 = amplitudes_full_instance_2_55.copy()\n",
    "amplitudes_fin_55['ID'] = amplitudes_fin_55['ID'].str.split(\"_\").str[0].astype(int)\n",
    "# Save\n",
    "amplitudes_fin_55.to_csv(\"/Resting_State/rsfMRI_matrices/amplitudes_tables/55/amplitudes_55_fin_CLEAN.csv\", index=False)\n",
    "amplitudes_55 = amplitudes_fin_55.copy()"
   ]
  },
  {
   "cell_type": "markdown",
   "metadata": {},
   "source": [
    "# Get original timeseries files"
   ]
  },
  {
   "cell_type": "markdown",
   "metadata": {},
   "source": [
    "## 21 IC (out of 25)"
   ]
  },
  {
   "cell_type": "code",
   "execution_count": null,
   "metadata": {},
   "outputs": [],
   "source": [
    "# Make a list of folder paths\n",
    "folder_paths = [\"/Resting_State/rsfMRI_bulk_main/1-4000/unzipped/\",\n",
    "\"/Resting_State/rsfMRI_bulk_main/5000-14000/unzipped/\",\n",
    "\"/Resting_State/rsfMRI_bulk_main/14000_24000_split/unzipped/\",\n",
    "\"/Resting_State/rsfMRI_bulk_main/14000-24000/unzipped/\", \n",
    "\"/Resting_State/rsfMRI_bulk_main/24000-34000/unzipped/\",\n",
    "\"/Resting_State/rsfMRI_bulk_main/24000-34000_split/unzipped/\",\n",
    "\"/Resting_State/rsfMRI_bulk_main/34000-44000/unzipped/\",\n",
    "\"/Resting_State/rsfMRI_bulk_main/34000-44000_split/unzipped/\",\n",
    "\"/Resting_State/rsfMRI_bulk_main/44000-54413/unzipped/\"]\n",
    "\n",
    "missing_file_count = 0\n",
    "\n",
    "timeseries_list = []\n",
    "index_list = []\n",
    "skipped_folders = []\n",
    "\n",
    "for folder_path in folder_paths:\n",
    "    for subject_folder in sorted(os.listdir(folder_path)):\n",
    "        subfolder_path = os.path.join(folder_path, subject_folder)\n",
    "        subject_folder_name = os.path.basename(subfolder_path)\n",
    "\n",
    "        if os.path.isdir(os.path.join(subfolder_path, 'fMRI')):\n",
    "            subfolder_path = os.path.join(subfolder_path, 'fMRI')\n",
    "        else:\n",
    "            subfolder_path = subfolder_path\n",
    "\n",
    "        timeseries_file = os.path.join(subfolder_path, \"rfMRI_25.dr\", \"dr_stage1.txt\")\n",
    "\n",
    "        if not os.path.exists(timeseries_file):\n",
    "            missing_file_count += 1\n",
    "            skipped_folders.append(subfolder_path)\n",
    "            continue\n",
    "\n",
    "        timeseries_25 = np.loadtxt(timeseries_file)\n",
    "        timeseries_list.append(timeseries_25)\n",
    "        index_list.append(subject_folder_name)\n",
    "\n",
    "print('Number of folders without the file:', missing_file_count)\n",
    "print('Skipped folders:', *skipped_folders, sep='\\n')"
   ]
  },
  {
   "cell_type": "code",
   "execution_count": null,
   "metadata": {},
   "outputs": [],
   "source": [
    "# Index list data frame 25 \n",
    "index_list_df = pd.DataFrame(index_list)\n",
    "index_list_df.columns = ['ID']\n",
    "index_list_df.sort_values(by='ID')\n",
    "\n",
    "# Extract Instance 2 25\n",
    "timeseries_instance_2 = []\n",
    "index_instance_2 = []\n",
    "for folder_name, timeseries in zip(index_list, timeseries_list): # Split folder name by underscore and get the first and last parts\n",
    "    id_part = folder_name.split(\"_\")[0]\n",
    "    mid_part = folder_name.split(\"_\")[-2]\n",
    "    id_part = int(id_part)\n",
    "    if mid_part == '2':\n",
    "        timeseries_instance_2.append(timeseries)\n",
    "        index_instance_2.append(folder_name)"
   ]
  },
  {
   "cell_type": "markdown",
   "metadata": {},
   "source": [
    "## 55 IC (out of 100)"
   ]
  },
  {
   "cell_type": "code",
   "execution_count": null,
   "metadata": {},
   "outputs": [],
   "source": [
    "# Make a list of folder paths\n",
    "folder_paths = [\"/Resting_State/rsfMRI_bulk_main/1-4000/unzipped/\",\n",
    "\"/Resting_State/rsfMRI_bulk_main/5000-14000/unzipped/\",\n",
    "\"/Resting_State/rsfMRI_bulk_main/14000_24000_split/unzipped/\",\n",
    "\"/Resting_State/rsfMRI_bulk_main/14000-24000/unzipped/\",\n",
    "\"/Resting_State/rsfMRI_bulk_main/24000-34000/unzipped/\",\n",
    "\"/Resting_State/rsfMRI_bulk_main/24000-34000_split/unzipped/\",\n",
    "\"/Resting_State/rsfMRI_bulk_main/34000-44000/unzipped/\",\n",
    "\"/Resting_State/rsfMRI_bulk_main/34000-44000_split/unzipped/\",\n",
    "\"/Resting_State/rsfMRI_bulk_main/44000-54413/unzipped/\"]\n",
    "\n",
    "missing_file_count = 0\n",
    "\n",
    "timeseries_100_list = []\n",
    "index_100_list = []\n",
    "skipped_folders = []\n",
    "\n",
    "for folder_path in folder_paths:\n",
    "    for subject_folder in sorted(os.listdir(folder_path)):\n",
    "        subfolder_path = os.path.join(folder_path, subject_folder)\n",
    "        subject_folder_name = os.path.basename(subfolder_path)\n",
    "\n",
    "        if os.path.isdir(os.path.join(subfolder_path, 'fMRI')):\n",
    "            subfolder_path = os.path.join(subfolder_path, 'fMRI')\n",
    "        else:\n",
    "            subfolder_path = subfolder_path\n",
    "\n",
    "        timeseries_file = os.path.join(subfolder_path, \"rfMRI_100.dr\", \"dr_stage1.txt\")\n",
    "\n",
    "        if not os.path.exists(timeseries_file):\n",
    "            missing_file_count += 1\n",
    "            skipped_folders.append(subfolder_path)\n",
    "            continue\n",
    "\n",
    "        timeseries_100 = np.loadtxt(timeseries_file)\n",
    "        timeseries_100_list.append(timeseries_100)\n",
    "        index_100_list.append(subject_folder_name)\n",
    "\n",
    "print('Number of folders without the file:', missing_file_count)\n",
    "print('Skipped folders:', *skipped_folders, sep='\\n')"
   ]
  },
  {
   "cell_type": "code",
   "execution_count": null,
   "metadata": {},
   "outputs": [],
   "source": [
    "# Index list data frame 100\n",
    "index_list_100_df = pd.DataFrame(index_100_list)\n",
    "index_list_100_df.columns = ['ID']\n",
    "index_list_100_df.sort_values(by='ID')\n",
    "index_list_100_df\n",
    "\n",
    "# Extract Instance 2 100\n",
    "timeseries_100_instance_2 = []\n",
    "index_100_instance_2 = []\n",
    "for folder_name, timeseries in zip(index_100_list, timeseries_100_list): # Split folder name by underscore and get the first and last parts\n",
    "    id_part = folder_name.split(\"_\")[0]\n",
    "    mid_part = folder_name.split(\"_\")[-2]\n",
    "    id_part = int(id_part)\n",
    "    if mid_part == '2':\n",
    "        timeseries_100_instance_2.append(timeseries)\n",
    "        index_100_instance_2.append(folder_name)"
   ]
  },
  {
   "cell_type": "markdown",
   "metadata": {},
   "source": [
    "# **Upload correlation matrices provided by UK BB**"
   ]
  },
  {
   "cell_type": "markdown",
   "metadata": {},
   "source": [
    "## 1. 21 IC, FULL"
   ]
  },
  {
   "cell_type": "markdown",
   "metadata": {},
   "source": [
    "First, get filenames in the folder"
   ]
  },
  {
   "cell_type": "code",
   "execution_count": null,
   "metadata": {},
   "outputs": [],
   "source": [
    "path = \"/Resting_State/rsfMRI_matrices/rfMRI-full_CM-25750/\"\n",
    "os.chdir(path) \n",
    "my_files = glob.glob(path + \"*.txt\")\n",
    "\n",
    "file_names_21 = []\n",
    "\n",
    "# Loop over the file list and get the base name of each file\n",
    "for file in my_files:\n",
    "    file_name = os.path.basename(file)\n",
    "    file_names_21.append(file_name)\n",
    "\n",
    "# Print the list of file names\n",
    "print(file_names_21)\n",
    "\n",
    "# Make a data frame\n",
    "file_names_21_df = pd.DataFrame(file_names_21)\n",
    "file_names_21_df.columns = ['filenames']\n",
    "file_names_21_df_sorted = file_names_21_df.sort_values(by='filenames', ascending=True).reset_index(drop=True)\n",
    "file_names_21_df_sorted\n",
    "\n",
    "# Get IDs\n",
    "eid_list = []\n",
    "for file in file_names_21:\n",
    "    parts = file.split(\"_\")\n",
    "    # Get the first element of the list\n",
    "    eid = parts[0]\n",
    "    eid_list.append(eid)\n",
    "\n",
    "eid = pd.DataFrame(eid_list)\n",
    "eid.columns = ['ID']\n",
    "eid_sorted = eid.sort_values(by='ID', ascending=True).reset_index(drop=True)\n",
    "eid_sorted_list = eid_sorted.values.tolist()\n",
    "eid_sorted_list"
   ]
  },
  {
   "cell_type": "markdown",
   "metadata": {},
   "source": [
    "Read each portion of the data"
   ]
  },
  {
   "cell_type": "code",
   "execution_count": null,
   "metadata": {},
   "outputs": [],
   "source": [
    "folder_path = \"/Resting_State/rsfMRI_matrices/rfMRI-full_CM-25750/\"\n",
    "file_names_5000 = file_names_21_df_sorted[\"filenames\"][0:5000]\n",
    "file_names_10000 = file_names_21_df_sorted[\"filenames\"][5000:10000]\n",
    "file_names_15000 = file_names_21_df_sorted[\"filenames\"][10000:15000]\n",
    "file_names_20000 = file_names_21_df_sorted[\"filenames\"][15000:20000]\n",
    "file_names_25000 = file_names_21_df_sorted[\"filenames\"][20000:25000]\n",
    "file_names_30000 = file_names_21_df_sorted[\"filenames\"][25000:30000]\n",
    "file_names_35000 = file_names_21_df_sorted[\"filenames\"][30000:35000]\n",
    "file_names_40000 = file_names_21_df_sorted[\"filenames\"][35000:40000]\n",
    "file_names_45000 = file_names_21_df_sorted[\"filenames\"][40000:45000]\n",
    "file_names_49239 = file_names_21_df_sorted[\"filenames\"][45000:]\n",
    "\n",
    "\n",
    "participants = []\n",
    "\n",
    "# Loop over the values in the filenames column of the data frame\n",
    "for file_name in file_names_49239: # file_names_df_sorted_5[\"filenames\"]:\n",
    "    # Create the full file path by joining the folder path and the file name\n",
    "    file_path = os.path.join(folder_path, file_name)\n",
    "    # Read the file into a data frame\n",
    "    p = pd.read_csv(file_path, sep=\"\\\\s+\", header=None)\n",
    "    # Create a list of column names\n",
    "    prefix = \"Component\"\n",
    "    p.columns = [ f'{prefix} {i+1} Full corr. (21 IC)' for i in range(p.shape[1]) ]\n",
    "    # Set the index of the data frame using the file name or a part of it\n",
    "    p.index = [file_name.split(\".\")[0]]\n",
    "    #p.reset_index(drop=True, inplace=True)\n",
    "    # Append the data frame to the list\n",
    "    participants.append(p)\n",
    "\n",
    "# Concatenate all the data frames in the list into one big data frame along the column axis\n",
    "fcorr_49239 = pd.concat(participants, axis=0)\n",
    "\n",
    "# Save the big data frame as a CSV file\n",
    "fcorr_49239.to_csv(\"/Resting_State/rsfMRI_matrices/full_corr_tables/21/fcorr_49239.csv\", index=False) # Set index to false or index_col=0 to avoid "
   ]
  },
  {
   "cell_type": "markdown",
   "metadata": {},
   "source": [
    "Save & check"
   ]
  },
  {
   "cell_type": "code",
   "execution_count": null,
   "metadata": {},
   "outputs": [],
   "source": [
    "# Save individual tables\n",
    "fcorr_5000.to_csv(\"/Resting_State/rsfMRI_matrices/full_corr_tables/21/fcorr_5000.csv\", index=True, index_label=\"ID\")\n",
    "fcorr_10000.to_csv(\"/Resting_State/rsfMRI_matrices/full_corr_tables/21/fcorr_10000.csv\", index=True, index_label=\"ID\")\n",
    "fcorr_15000.to_csv(\"/Resting_State/rsfMRI_matrices/full_corr_tables/21/fcorr_15000.csv\", index=True, index_label=\"ID\")\n",
    "fcorr_20000.to_csv(\"/Resting_State/rsfMRI_matrices/full_corr_tables/21/fcorr_20000.csv\", index=True, index_label=\"ID\")\n",
    "fcorr_25000.to_csv(\"/Resting_State/rsfMRI_matrices/full_corr_tables/21/fcorr_25000.csv\", index=True, index_label=\"ID\")\n",
    "fcorr_30000.to_csv(\"/Resting_State/rsfMRI_matrices/full_corr_tables/21/fcorr_30000.csv\", index=True, index_label=\"ID\")\n",
    "fcorr_35000.to_csv(\"/Resting_State/rsfMRI_matrices/full_corr_tables/21/fcorr_35000.csv\", index=True, index_label=\"ID\")\n",
    "fcorr_40000.to_csv(\"/Resting_State/rsfMRI_matrices/full_corr_tables/21/fcorr_40000.csv\", index=True, index_label=\"ID\")\n",
    "fcorr_45000.to_csv(\"/Resting_State/rsfMRI_matrices/full_corr_tables/21/fcorr_45000.csv\", index=True, index_label=\"ID\")\n",
    "fcorr_49239.to_csv(\"/Resting_State/rsfMRI_matrices/full_corr_tables/21/fcorr_49239.csv\", index=True, index_label=\"ID\")"
   ]
  },
  {
   "cell_type": "code",
   "execution_count": null,
   "metadata": {},
   "outputs": [],
   "source": [
    "# Upload and check\n",
    "fullcorr_5000 = pd.read_csv(\"/Resting_State/rsfMRI_matrices/full_corr_tables/21/fcorr_5000.csv\")\n",
    "fullcorr_10000 = pd.read_csv(\"/Resting_State/rsfMRI_matrices/full_corr_tables/21/fcorr_10000.csv\")\n",
    "fullcorr_15000 = pd.read_csv(\"/Resting_State/rsfMRI_matrices/full_corr_tables/21/fcorr_15000.csv\")\n",
    "fullcorr_20000 = pd.read_csv(\"/Resting_State/rsfMRI_matrices/full_corr_tables/21/fcorr_20000.csv\")\n",
    "fullcorr_25000 = pd.read_csv(\"/Resting_State/rsfMRI_matrices/full_corr_tables/21/fcorr_25000.csv\")\n",
    "fullcorr_30000 = pd.read_csv(\"/Resting_State/rsfMRI_matrices/full_corr_tables/21/fcorr_30000.csv\")\n",
    "fullcorr_35000 = pd.read_csv(\"/Resting_State/rsfMRI_matrices/full_corr_tables/21/fcorr_35000.csv\")\n",
    "fullcorr_40000 = pd.read_csv(\"/Resting_State/rsfMRI_matrices/full_corr_tables/21/fcorr_40000.csv\")\n",
    "fullcorr_45000 = pd.read_csv(\"/Resting_State/rsfMRI_matrices/full_corr_tables/21/fcorr_45000.csv\")\n",
    "fullcorr_49239 = pd.read_csv(\"/Resting_State/rsfMRI_matrices/full_corr_tables/21/fcorr_49239.csv\")"
   ]
  },
  {
   "cell_type": "markdown",
   "metadata": {},
   "source": [
    "Merge sub-tables"
   ]
  },
  {
   "cell_type": "code",
   "execution_count": null,
   "metadata": {},
   "outputs": [],
   "source": [
    "fcorr_21 = pd.concat([fullcorr_5000, fullcorr_10000, fullcorr_15000, fullcorr_20000, fullcorr_25000,\n",
    "fullcorr_30000, fullcorr_35000, fullcorr_40000, fullcorr_45000, fullcorr_49239], axis=0)\n",
    "fcorr_21.to_csv(\"/Resting_State/rsfMRI_matrices/full_corr_tables/21/fcorr_21_FULL.csv\", index=False)"
   ]
  },
  {
   "cell_type": "markdown",
   "metadata": {},
   "source": [
    "Exclude Instance 3 and leave only ID"
   ]
  },
  {
   "cell_type": "code",
   "execution_count": null,
   "metadata": {},
   "outputs": [],
   "source": [
    "# Exclude Instance 3\n",
    "fcorr_21_instance_2 = fcorr_21[~fcorr_21[\"ID\"].str.contains('_25750_3_0')].reset_index(drop=True)\n",
    "# Extract ID number\n",
    "fcorr_21_fin = fcorr_21_instance_2.copy()\n",
    "fcorr_21_fin['ID'] = fcorr_21_fin['ID'].str.split(\"_\").str[0].astype(int)\n",
    "# Save\n",
    "fcorr_21_fin.to_csv(\"/Resting_State/rsfMRI_matrices/full_corr_tables/21/fcorr_21_instance_2_FINAL.csv\", index=False)\n",
    "full_correlation_21 = fcorr_21_fin.copy()"
   ]
  },
  {
   "cell_type": "markdown",
   "metadata": {},
   "source": [
    "## 2. 55 IC, FULL"
   ]
  },
  {
   "cell_type": "markdown",
   "metadata": {},
   "source": [
    "Get filenames"
   ]
  },
  {
   "cell_type": "code",
   "execution_count": null,
   "metadata": {},
   "outputs": [],
   "source": [
    "path = \"/Resting_State/rsfMRI_matrices/rfMRI-full_CM-25751/\"\n",
    "os.chdir(path) \n",
    "my_files = glob.glob(path + \"*.txt\")\n",
    "\n",
    "file_names_55 = []\n",
    "\n",
    "# Loop over the file list and get the base name of each file\n",
    "for file in my_files:\n",
    "    file_name = os.path.basename(file)\n",
    "    file_names_55.append(file_name)\n",
    "\n",
    "# Print the list of file names\n",
    "print(file_names_55)\n",
    "\n",
    "# Make a data frame\n",
    "file_names_55_df = pd.DataFrame(file_names_55)\n",
    "file_names_55_df.columns = ['filenames']\n",
    "file_names_55_df_sorted = file_names_55_df.sort_values(by='filenames', ascending=True).reset_index(drop=True)\n",
    "file_names_55_df_sorted\n",
    "\n",
    "# Get IDs\n",
    "eid_list = []\n",
    "for file in file_names_55:\n",
    "    parts = file.split(\"_\")\n",
    "    # Get the first element of the list\n",
    "    eid = parts[0]\n",
    "    eid_list.append(eid)\n",
    "\n",
    "eid = pd.DataFrame(eid_list)\n",
    "eid.columns = ['ID']\n",
    "eid_sorted = eid.sort_values(by='ID', ascending=True).reset_index(drop=True)\n",
    "eid_sorted_list = eid_sorted.values.tolist()\n",
    "eid_sorted_list"
   ]
  },
  {
   "cell_type": "markdown",
   "metadata": {},
   "source": [
    "Upload each portion of the data"
   ]
  },
  {
   "cell_type": "code",
   "execution_count": null,
   "metadata": {},
   "outputs": [],
   "source": [
    "folder_path = \"/Resting_State/rsfMRI_matrices/rfMRI-full_CM-25751/\"\n",
    "\n",
    "file_names_5000 = file_names_55_df_sorted[\"filenames\"][0:5000]\n",
    "file_names_10000 = file_names_55_df_sorted[\"filenames\"][5000:10000]\n",
    "file_names_15000 = file_names_55_df_sorted[\"filenames\"][10000:15000]\n",
    "file_names_20000 = file_names_55_df_sorted[\"filenames\"][15000:20000]\n",
    "file_names_25000 = file_names_55_df_sorted[\"filenames\"][20000:25000]\n",
    "file_names_30000 = file_names_55_df_sorted[\"filenames\"][25000:30000]\n",
    "file_names_35000 = file_names_55_df_sorted[\"filenames\"][30000:35000]\n",
    "file_names_40000 = file_names_55_df_sorted[\"filenames\"][35000:40000]\n",
    "file_names_45000 = file_names_55_df_sorted[\"filenames\"][40000:45000]\n",
    "file_names_49239 = file_names_55_df_sorted[\"filenames\"][45000:]\n",
    "file_names_49239 = file_names_55_df_sorted[\"filenames\"][45000:]\n",
    "\n",
    "participants = []\n",
    "\n",
    "# Loop over the values in the filenames column of the data frame\n",
    "for file_name in file_names_49239: # file_names_df_sorted_5[\"filenames\"]:\n",
    "    # Create the full file path by joining the folder path and the file name\n",
    "    file_path = os.path.join(folder_path, file_name)\n",
    "    # Read the file into a data frame\n",
    "    p = pd.read_csv(file_path, sep=\"\\\\s+\", header=None)\n",
    "    # Create a list of column names\n",
    "    prefix = \"Component\"\n",
    "    p.columns = [ f'{prefix} {i+1} Full corr. (55 IC)' for i in range(p.shape[1]) ]\n",
    "    # Set the index of the data frame using the file name or a part of it\n",
    "    p.index = [file_name.split(\".\")[0]]\n",
    "    #p.reset_index(drop=True, inplace=True)\n",
    "    # Append the data frame to the list\n",
    "    participants.append(p)\n",
    "\n",
    "# Concatenate all the data frames in the list into one big data frame along the column axis\n",
    "fcorr_55_49239 = pd.concat(participants, axis=0)\n",
    "\n",
    "# Save the big data frame as a CSV file\n",
    "fcorr_55_49239.to_csv(\"/Resting_State/rsfMRI_matrices/full_corr_tables/55/fcorr_55_49239.csv\", index=True, index_label=\"ID\")"
   ]
  },
  {
   "cell_type": "code",
   "execution_count": null,
   "metadata": {},
   "outputs": [],
   "source": [
    "# Upload and check\n",
    "fullcorr_55_5000 = pd.read_csv(\"/Resting_State/rsfMRI_matrices/full_corr_tables/55/fcorr_55_5000.csv\")\n",
    "fullcorr_55_10000 = pd.read_csv(\"/Resting_State/rsfMRI_matrices/full_corr_tables/55/fcorr_55_10000.csv\")\n",
    "fullcorr_55_15000 = pd.read_csv(\"/Resting_State/rsfMRI_matrices/full_corr_tables/55/fcorr_55_15000.csv\")\n",
    "fullcorr_55_20000 = pd.read_csv(\"/Resting_State/rsfMRI_matrices/full_corr_tables/55/fcorr_55_20000.csv\")\n",
    "fullcorr_55_25000 = pd.read_csv(\"/Resting_State/rsfMRI_matrices/full_corr_tables/55/fcorr_55_25000.csv\")\n",
    "fullcorr_55_30000 = pd.read_csv(\"/Resting_State/rsfMRI_matrices/full_corr_tables/55/fcorr_55_30000.csv\")\n",
    "fullcorr_55_35000 = pd.read_csv(\"/Resting_State/rsfMRI_matrices/full_corr_tables/55/fcorr_55_35000.csv\")\n",
    "fullcorr_55_40000 = pd.read_csv(\"/Resting_State/rsfMRI_matrices/full_corr_tables/55/fcorr_55_40000.csv\")\n",
    "fullcorr_55_45000 = pd.read_csv(\"/Resting_State/rsfMRI_matrices/full_corr_tables/55/fcorr_55_45000.csv\")\n",
    "fullcorr_55_49239 = pd.read_csv(\"/Resting_State/rsfMRI_matrices/full_corr_tables/55/fcorr_55_49239.csv\")"
   ]
  },
  {
   "cell_type": "markdown",
   "metadata": {},
   "source": [
    "Merge sub-tables"
   ]
  },
  {
   "cell_type": "code",
   "execution_count": null,
   "metadata": {},
   "outputs": [],
   "source": [
    "fcorr_55 = pd.concat([fullcorr_55_5000, fullcorr_55_10000, fullcorr_55_15000, fullcorr_55_20000, fullcorr_55_25000,\n",
    "fullcorr_55_30000, fullcorr_55_35000, fullcorr_55_40000, fullcorr_55_45000, fullcorr_55_49239], axis=0)\n",
    "fcorr_55.to_csv(\"/Resting_State/rsfMRI_matrices/full_corr_tables/55/fcorr_55_FULL.csv\", index=False)"
   ]
  },
  {
   "cell_type": "markdown",
   "metadata": {},
   "source": [
    "Exclude Instance 3 and leave only ID"
   ]
  },
  {
   "cell_type": "code",
   "execution_count": null,
   "metadata": {},
   "outputs": [],
   "source": [
    "# Exclude Instance 3\n",
    "fcorr_55_instance_2 = fcorr_55[~fcorr_55[\"ID\"].str.contains('_25751_3_0')].reset_index(drop=True)\n",
    "# Extract ID number\n",
    "fcorr_55_fin = fcorr_55_instance_2.copy()\n",
    "fcorr_55_fin['ID'] = fcorr_55_fin['ID'].str.split(\"_\").str[0].astype(int)\n",
    "# Save\n",
    "fcorr_55_fin.to_csv(\"/Resting_State/rsfMRI_matrices/full_corr_tables/55/fcorr_55_instance_2_FINAL.csv\", index=False)\n",
    "full_correlation_55 = fcorr_55_fin.copy()"
   ]
  },
  {
   "cell_type": "code",
   "execution_count": null,
   "metadata": {},
   "outputs": [],
   "source": [
    "fcorr_55 = pd.read_csv('/Resting_State/rsfMRI_matrices/full_corr_tables/55/fcorr_55_instance_2_FINAL.csv')"
   ]
  },
  {
   "cell_type": "markdown",
   "metadata": {},
   "source": [
    "## 3. 21 IC, PARTIAL"
   ]
  },
  {
   "cell_type": "code",
   "execution_count": null,
   "metadata": {},
   "outputs": [],
   "source": [
    "path = \"/Resting_State/rsfMRI_matrices/rfMRI-partial-25752/\"\n",
    "os.chdir(path) \n",
    "my_files = glob.glob(path + \"*.txt\")\n",
    "\n",
    "file_names_21 = []\n",
    "\n",
    "# Loop over the file list and get the base name of each file\n",
    "for file in my_files:\n",
    "    file_name = os.path.basename(file)\n",
    "    file_names_21.append(file_name)\n",
    "\n",
    "# Print the list of file names\n",
    "print(file_names_21)\n",
    "\n",
    "# Make a data frame\n",
    "file_names_21_df = pd.DataFrame(file_names_21)\n",
    "file_names_21_df.columns = ['filenames']\n",
    "file_names_21_df_sorted = file_names_21_df.sort_values(by='filenames', ascending=True).reset_index(drop=True)\n",
    "file_names_21_df_sorted\n",
    "\n",
    "# Get IDs\n",
    "eid_list = []\n",
    "for file in file_names_21:\n",
    "    parts = file.split(\"_\")\n",
    "    # Get the first element of the list\n",
    "    eid = parts[0]\n",
    "    eid_list.append(eid)\n",
    "\n",
    "eid = pd.DataFrame(eid_list)\n",
    "eid.columns = ['ID']\n",
    "eid_sorted = eid.sort_values(by='ID', ascending=True).reset_index(drop=True)\n",
    "eid_sorted_list = eid_sorted.values.tolist()"
   ]
  },
  {
   "cell_type": "code",
   "execution_count": null,
   "metadata": {},
   "outputs": [],
   "source": [
    "folder_path = \"/Resting_State/rsfMRI_matrices/rfMRI-partial-25752/\"\n",
    "file_names_5000 = file_names_21_df_sorted[\"filenames\"][0:5000]\n",
    "file_names_10000 = file_names_21_df_sorted[\"filenames\"][5000:10000]\n",
    "file_names_15000 = file_names_21_df_sorted[\"filenames\"][10000:15000]\n",
    "file_names_20000 = file_names_21_df_sorted[\"filenames\"][15000:20000]\n",
    "file_names_25000 = file_names_21_df_sorted[\"filenames\"][20000:25000]\n",
    "file_names_30000 = file_names_21_df_sorted[\"filenames\"][25000:30000]\n",
    "file_names_35000 = file_names_21_df_sorted[\"filenames\"][30000:35000]\n",
    "file_names_40000 = file_names_21_df_sorted[\"filenames\"][35000:40000]\n",
    "file_names_45000 = file_names_21_df_sorted[\"filenames\"][40000:45000]\n",
    "file_names_49239 = file_names_21_df_sorted[\"filenames\"][45000:]\n",
    "\n",
    "participants = []\n",
    "\n",
    "# Loop over the values in the filenames column of the data frame\n",
    "for file_name in file_names_49239: # file_names_df_sorted_5[\"filenames\"]:\n",
    "    # Create the full file path by joining the folder path and the file name\n",
    "    file_path = os.path.join(folder_path, file_name)\n",
    "    # Read the file into a data frame\n",
    "    p = pd.read_csv(file_path, sep=\"\\\\s+\", header=None)\n",
    "    # Create a list of column names\n",
    "    prefix = \"Component\"\n",
    "    p.columns = [ f'{prefix} {i+1} Partial corr. (21 IC)' for i in range(p.shape[1]) ]\n",
    "    # Set the index of the data frame using the file name or a part of it\n",
    "    p.index = [file_name.split(\".\")[0]]\n",
    "    #p.reset_index(drop=True, inplace=True)\n",
    "    # Append the data frame to the list\n",
    "    participants.append(p)\n",
    "\n",
    "# Concatenate all the data frames in the list into one big data frame along the column axis\n",
    "pcorr_21_49239 = pd.concat(participants, axis=0)\n",
    "\n",
    "# Save the big data frame as a CSV file\n",
    "pcorr_21_49239.to_csv(\"/Resting_State/rsfMRI_matrices/partial_corr_tables/21/pcorr_21_49239.csv\", index=True, index_label=\"ID\")"
   ]
  },
  {
   "cell_type": "code",
   "execution_count": null,
   "metadata": {},
   "outputs": [],
   "source": [
    "partcorr_21_5000 = pd.read_csv(\"/Resting_State/rsfMRI_matrices/partial_corr_tables/21/pcorr_21_5000.csv\")\n",
    "partcorr_21_10000 = pd.read_csv(\"/Resting_State/rsfMRI_matrices/partial_corr_tables/21/pcorr_21_10000.csv\")\n",
    "partcorr_21_15000 = pd.read_csv(\"/Resting_State/rsfMRI_matrices/partial_corr_tables/21/pcorr_21_15000.csv\")\n",
    "partcorr_21_20000 = pd.read_csv(\"/Resting_State/rsfMRI_matrices/partial_corr_tables/21/pcorr_21_20000.csv\")\n",
    "partcorr_21_25000 = pd.read_csv(\"/Resting_State/rsfMRI_matrices/partial_corr_tables/21/pcorr_21_25000.csv\")\n",
    "partcorr_21_30000 = pd.read_csv(\"/Resting_State/rsfMRI_matrices/partial_corr_tables/21/pcorr_21_30000.csv\")\n",
    "partcorr_21_35000 = pd.read_csv(\"/Resting_State/rsfMRI_matrices/partial_corr_tables/21/pcorr_21_35000.csv\")\n",
    "partcorr_21_40000 = pd.read_csv(\"/Resting_State/rsfMRI_matrices/partial_corr_tables/21/pcorr_21_40000.csv\")\n",
    "partcorr_21_45000 = pd.read_csv(\"/Resting_State/rsfMRI_matrices/partial_corr_tables/21/pcorr_21_45000.csv\")\n",
    "partcorr_21_49239 = pd.read_csv(\"/Resting_State/rsfMRI_matrices/partial_corr_tables/21/pcorr_21_49239.csv\")"
   ]
  },
  {
   "cell_type": "code",
   "execution_count": null,
   "metadata": {},
   "outputs": [],
   "source": [
    "pcorr_21 = pd.concat([partcorr_21_5000, partcorr_21_10000, partcorr_21_15000, partcorr_21_20000, partcorr_21_25000,\n",
    "partcorr_21_30000, partcorr_21_35000, partcorr_21_40000, partcorr_21_45000, partcorr_21_49239], axis=0)\n",
    "pcorr_21.to_csv(\"/Resting_State/rsfMRI_matrices/partial_corr_tables/21/pcorr_21_FULL.csv\", index=False)"
   ]
  },
  {
   "cell_type": "code",
   "execution_count": null,
   "metadata": {},
   "outputs": [],
   "source": [
    "# Exclude Instance 3\n",
    "pcorr_21_instance_2 = pcorr_21[~pcorr_21[\"ID\"].str.contains('_25752_3_0')].reset_index(drop=True)\n",
    "# Extract ID number\n",
    "pcorr_21_fin = pcorr_21_instance_2.copy()\n",
    "pcorr_21_fin['ID'] = pcorr_21_fin['ID'].str.split(\"_\").str[0].astype(int)\n",
    "# Save\n",
    "pcorr_21_fin.to_csv(\"/Resting_State/rsfMRI_matrices/partial_corr_tables/21/pcorr_21_instance_2_FINAL.csv\", index=False)\n",
    "partial_correlation_21 = pcorr_21_fin.copy()"
   ]
  },
  {
   "cell_type": "markdown",
   "metadata": {},
   "source": [
    "'Good' components\n",
    "2  3  4  5  6  7  8  9 10 11 12 13 14 15 16 17 18 19 20 21 22 23 24 25 26 27 28 29 30 31 32 33 34 35 36 37 38 39 40 41 42 43 45 46 48 49 50 52 53 57 58 60 63 64 93"
   ]
  },
  {
   "cell_type": "code",
   "execution_count": null,
   "metadata": {},
   "outputs": [],
   "source": [
    "path = \"/Resting_State/rsfMRI_matrices/rfMRI-partial-25753/\"\n",
    "os.chdir(path) \n",
    "my_files = glob.glob(path + \"*.txt\")\n",
    "\n",
    "file_names_55 = []\n",
    "\n",
    "# Loop over the file list and get the base name of each file\n",
    "for file in my_files:\n",
    "    file_name = os.path.basename(file)\n",
    "    file_names_55.append(file_name)\n",
    "\n",
    "# Print the list of file names\n",
    "print(file_names_55)\n",
    "\n",
    "# Make a data frame\n",
    "file_names_55_df = pd.DataFrame(file_names_55)\n",
    "file_names_55_df.columns = ['filenames']\n",
    "file_names_55_df_sorted = file_names_55_df.sort_values(by='filenames', ascending=True).reset_index(drop=True)\n",
    "file_names_55_df_sorted\n",
    "\n",
    "# Get IDs\n",
    "eid_list = []\n",
    "for file in file_names_55:\n",
    "    parts = file.split(\"_\")\n",
    "    # Get the first element of the list\n",
    "    eid = parts[0]\n",
    "    eid_list.append(eid)\n",
    "\n",
    "eid = pd.DataFrame(eid_list)\n",
    "eid.columns = ['ID']\n",
    "eid_sorted = eid.sort_values(by='ID', ascending=True).reset_index(drop=True)\n",
    "eid_sorted_list = eid_sorted.values.tolist()\n",
    "eid_sorted_list"
   ]
  },
  {
   "cell_type": "code",
   "execution_count": null,
   "metadata": {},
   "outputs": [],
   "source": [
    "folder_path = \"/Rdata_no_idesting_State/rsfMRI_matrices/rfMRI-partial-25753/\"\n",
    "\n",
    "file_names_5000 = file_names_55_df_sorted[\"filenames\"][0:5000]\n",
    "file_names_10000 = file_names_55_df_sorted[\"filenames\"][5000:10000]\n",
    "file_names_15000 = file_names_55_df_sorted[\"filenames\"][10000:15000]\n",
    "file_names_20000 = file_names_55_df_sorted[\"filenames\"][15000:20000]\n",
    "file_names_25000 = file_names_55_df_sorted[\"filenames\"][20000:25000]\n",
    "file_names_30000 = file_names_55_df_sorted[\"filenames\"][25000:30000]\n",
    "file_names_35000 = file_names_55_df_sorted[\"filenames\"][30000:35000]\n",
    "file_names_40000 = file_names_55_df_sorted[\"filenames\"][35000:40000]\n",
    "file_names_45000 = file_names_55_df_sorted[\"filenames\"][40000:45000]\n",
    "file_names_49239 = file_names_55_df_sorted[\"filenames\"][45000:]\n",
    "\n",
    "participants = []\n",
    "\n",
    "# Loop over the values in the filenames column of the data frame\n",
    "for file_name in file_names_49239: # file_names_df_sorted_5[\"filenames\"]:\n",
    "    # Create the full file path by joining the folder path and the file name\n",
    "    file_path = os.path.join(folder_path, file_name)\n",
    "    # Read the file into a data frame\n",
    "    p = pd.read_csv(file_path, sep=\"\\\\s+\", header=None)\n",
    "    # Create a list of column names\n",
    "    prefix = \"Component\"\n",
    "    p.columns = [ f'{prefix} {i+1} Partial corr. (55 IC)' for i in range(p.shape[1]) ]\n",
    "    # Set the index of the data frame using the file name or a part of it\n",
    "    p.index = [file_name.split(\".\")[0]]\n",
    "    #p.reset_index(drop=True, inplace=True)\n",
    "    # Append the data frame to the list\n",
    "    participants.append(p)\n",
    "\n",
    "# Concatenate all the data frames in the list into one big data frame along the column axis\n",
    "pcorr_55_49239 = pd.concat(participants, axis=0)\n",
    "\n",
    "# Save the big data frame as a CSV file\n",
    "pcorr_55_49239.to_csv(\"/Resting_State/rsfMRI_matrices/partial_corr_tables/55/pcorr_55_49239.csv\", index=True, index_label=\"ID\")\n"
   ]
  },
  {
   "cell_type": "code",
   "execution_count": null,
   "metadata": {},
   "outputs": [],
   "source": [
    "partcorr_55_5000 = pd.read_csv(\"/Resting_State/rsfMRI_matrices/partial_corr_tables/55/pcorr_55_5000.csv\")\n",
    "partcorr_55_10000 = pd.read_csv(\"/Resting_State/rsfMRI_matrices/partial_corr_tables/55/pcorr_55_10000.csv\")\n",
    "partcorr_55_15000 = pd.read_csv(\"/Resting_State/rsfMRI_matrices/partial_corr_tables/55/pcorr_55_15000.csv\")\n",
    "partcorr_55_20000 = pd.read_csv(\"/Resting_State/rsfMRI_matrices/partial_corr_tables/55/pcorr_55_20000.csv\")\n",
    "partcorr_55_25000 = pd.read_csv(\"/Resting_State/rsfMRI_matrices/partial_corr_tables/55/pcorr_55_25000.csv\")\n",
    "partcorr_55_30000 = pd.read_csv(\"/Resting_State/rsfMRI_matrices/partial_corr_tables/55/pcorr_55_30000.csv\")\n",
    "partcorr_55_35000 = pd.read_csv(\"/Resting_State/rsfMRI_matrices/partial_corr_tables/55/pcorr_55_35000.csv\")\n",
    "partcorr_55_40000 = pd.read_csv(\"/Resting_State/rsfMRI_matrices/partial_corr_tables/55/pcorr_55_40000.csv\")\n",
    "partcorr_55_45000 = pd.read_csv(\"/Resting_State/rsfMRI_matrices/partial_corr_tables/55/pcorr_55_45000.csv\")\n",
    "partcorr_55_49239 = pd.read_csv(\"/Resting_State/rsfMRI_matrices/partial_corr_tables/55/pcorr_55_49239.csv\")"
   ]
  },
  {
   "cell_type": "code",
   "execution_count": null,
   "metadata": {},
   "outputs": [],
   "source": [
    "pcorr_55 = pd.concat([partcorr_55_5000, partcorr_55_10000, partcorr_55_15000, partcorr_55_20000, partcorr_55_25000,\n",
    "partcorr_55_30000, partcorr_55_35000, partcorr_55_40000, partcorr_55_45000, partcorr_55_49239], axis=0)\n",
    "pcorr_55.to_csv(\"/Resting_State/rsfMRI_matrices/partial_corr_tables/55/pcorr_55_FULL.csv\", index=False)"
   ]
  },
  {
   "cell_type": "code",
   "execution_count": null,
   "metadata": {},
   "outputs": [],
   "source": [
    "# Exclude Instance 3\n",
    "pcorr_55_instance_2 = pcorr_55[~pcorr_55[\"ID\"].str.contains('_25753_3_0')].reset_index(drop=True)\n",
    "# Extract ID number\n",
    "pcorr_55_fin = pcorr_55_instance_2.copy()\n",
    "pcorr_55_fin['ID'] = pcorr_55_fin['ID'].str.split(\"_\").str[0].astype(int)\n",
    "# Save\n",
    "pcorr_55_fin.to_csv(\"/Resting_State/rsfMRI_matrices/partial_corr_tables/55/pcorr_55_instance_2_FINAL.csv\", index=False)\n",
    "partial_correlation_55 = pcorr_55_fin.copy()"
   ]
  },
  {
   "cell_type": "markdown",
   "metadata": {},
   "source": [
    "Merge all dataframes into one if needed"
   ]
  },
  {
   "cell_type": "code",
   "execution_count": null,
   "metadata": {},
   "outputs": [],
   "source": [
    "rs_mri = full_correlation_21\n",
    "for df in [full_correlation_55, partial_correlation_21, partial_correlation_55]:\n",
    "    rs_mri = pd.merge(rs_mri, df, on='ID')\n",
    "rs_mri.to_csv(\"/Resting_State/rsfMRI_matrices/rs_mri.csv\", index=False)"
   ]
  },
  {
   "cell_type": "markdown",
   "metadata": {},
   "source": [
    "## Rename columns according to ICs"
   ]
  },
  {
   "cell_type": "markdown",
   "metadata": {},
   "source": [
    "For 21 ICs"
   ]
  },
  {
   "cell_type": "code",
   "execution_count": null,
   "metadata": {},
   "outputs": [],
   "source": [
    "lower_indices_21 = np.tril_indices(21, k=-1)\n",
    "pairs_tril_21 = list(zip(lower_indices_21[0], lower_indices_21[1]))\n",
    "new_pairs_21 = [(x+1, y+1) for x, y in pairs_tril_21]\n",
    "\n",
    "# Create a dictionary for numbering according to IC\n",
    "mapping_21 = {1: 1, 2: 2, 3: 3, 4: 5, 5: 6, 6: 7, 7: 8, 8: 9, 9: 10, 10: 11, \n",
    "           11: 12, 12: 13, 13: 14, 14: 15, 15: 16, 16: 17, 17: 18, \n",
    "           18: 19, 19:20,20:21,21:22}\n",
    "\n",
    "new_pairs_21_ic = [(mapping_21[x], mapping_21[y]) for x, y in new_pairs_21]\n",
    "new_pairs_21_ic_str = [f\"{x} & {y}\" for x, y in new_pairs_21_ic]\n",
    "new_pairs_21_ic_str"
   ]
  },
  {
   "cell_type": "markdown",
   "metadata": {},
   "source": [
    "For 55 ICs"
   ]
  },
  {
   "cell_type": "code",
   "execution_count": null,
   "metadata": {},
   "outputs": [],
   "source": [
    "lower_indices_55 = np.tril_indices(55, k=-1)\n",
    "pairs_tril_55 = list(zip(lower_indices_55[0], lower_indices_55[1]))\n",
    "new_pairs_55 = [(x+1, y+1) for x, y in pairs_tril_55]\n",
    "\n",
    "# Create a dictionary for numbering according to IC\n",
    "mapping_55 = {1:2, 2:3, 3:4, 4:5, 5:6, 6:7,\n",
    "            7:8, 8:9, 9:10, 10:11, 11:12, 12:13,\n",
    "            13:14, 14:15, 15:16, 16:17, 17:18, 18:19,\n",
    "            19:20, 20:21, 21:22, 22:23, 23:24, 24:25,\n",
    "            25:26, 26:27, 27:28, 28:29, 29:30, 30:31,\n",
    "            31:32, 32:33, 33:34, 34:35, 35:36, 36:37,\n",
    "            37:38, 38:39, 39:40, 40:41, 41:42, 42:43,\n",
    "            43:45, 44:46, 45:48, 46:49, 47:50, 48:52,\n",
    "            49:53, 50:57, 51:58, 52:60, 53:63, 54:64,\n",
    "            55:93}\n",
    "\n",
    "new_pairs_55_ic = [(mapping_55[x], mapping_55[y]) for x, y in new_pairs_55]\n",
    "new_pairs_55_ic_str = [f\"{x} & {y}\" for x, y in new_pairs_55_ic]\n",
    "new_pairs_55_ic_str"
   ]
  },
  {
   "cell_type": "markdown",
   "metadata": {},
   "source": [
    "Exclude ID column first"
   ]
  },
  {
   "cell_type": "code",
   "execution_count": null,
   "metadata": {},
   "outputs": [],
   "source": [
    "full_correlation_21_no_id = full_correlation_21.iloc[:, 1:]\n",
    "ic_21_names = [name + ' Full corr. (21IC)' for name in new_pairs_21_ic_str]\n",
    "full_correlation_21_no_id.columns = ic_21_names\n",
    "#full_correlation_21_no_id = full_correlation_21_no_id.set_axis(ic_21_names, axis=1)\n",
    "full_correlation_21_no_id"
   ]
  },
  {
   "cell_type": "markdown",
   "metadata": {},
   "source": [
    "Rename full correlation 21"
   ]
  },
  {
   "cell_type": "code",
   "execution_count": null,
   "metadata": {},
   "outputs": [],
   "source": [
    "full_correlation_21_ic = full_correlation_21.copy()\n",
    "old_names = [\"Component \" + str(i) + \" Full corr. (21 IC)\" for i in range(1, 211)]\n",
    "new_names = [name + ' Full corr. (21IC)' for name in new_pairs_21_ic_str]\n",
    "name_map = dict(zip(old_names, new_names))\n",
    "full_correlation_21_ic = full_correlation_21_ic.rename(columns=name_map)\n",
    "full_correlation_21_ic"
   ]
  },
  {
   "cell_type": "markdown",
   "metadata": {},
   "source": [
    "Rename full correlation 55"
   ]
  },
  {
   "cell_type": "code",
   "execution_count": null,
   "metadata": {},
   "outputs": [],
   "source": [
    "full_correlation_55_ic = full_correlation_55.copy()\n",
    "old_names = [\"Component \" + str(i) + \" Full corr. (55 IC)\" for i in range(1, 1486)]\n",
    "new_names = [name + ' Full corr. (55IC)' for name in new_pairs_55_ic_str]\n",
    "name_map = dict(zip(old_names, new_names))\n",
    "full_correlation_55_ic = full_correlation_55_ic.rename(columns=name_map)\n",
    "full_correlation_55_ic"
   ]
  },
  {
   "cell_type": "markdown",
   "metadata": {},
   "source": [
    "Rename partial correlation 21"
   ]
  },
  {
   "cell_type": "code",
   "execution_count": null,
   "metadata": {},
   "outputs": [],
   "source": [
    "partial_correlation_21_ic = partial_correlation_21.copy()\n",
    "old_names = [\"Component \" + str(i) + \" Partial corr. (21 IC)\" for i in range(1, 211)]\n",
    "new_names = [name + ' Partial corr. (21IC)' for name in new_pairs_21_ic_str]\n",
    "name_map = dict(zip(old_names, new_names))\n",
    "partial_correlation_21_ic = partial_correlation_21_ic.rename(columns=name_map)\n",
    "partial_correlation_21_ic"
   ]
  },
  {
   "cell_type": "markdown",
   "metadata": {},
   "source": [
    "Rename partial correlation 55"
   ]
  },
  {
   "cell_type": "code",
   "execution_count": null,
   "metadata": {},
   "outputs": [],
   "source": [
    "partial_correlation_55_ic = partial_correlation_55.copy()\n",
    "old_names = [\"Component \" + str(i) + \" Partial corr. (55 IC)\" for i in range(1, 1486)]\n",
    "new_names = [name + ' Partial corr. (55IC)' for name in new_pairs_55_ic_str]\n",
    "name_map = dict(zip(old_names, new_names))\n",
    "partial_correlation_55_ic = partial_correlation_55_ic.rename(columns=name_map)\n",
    "partial_correlation_55_ic"
   ]
  },
  {
   "cell_type": "markdown",
   "metadata": {},
   "source": [
    "## An easier way to rename columns"
   ]
  },
  {
   "cell_type": "code",
   "execution_count": null,
   "metadata": {},
   "outputs": [],
   "source": [
    "amplitudes_21 = pd.read_csv(\"/Resting_State/rsfMRI_matrices/amplitudes_tables/21/amplitudes_21_fin_CLEAN.csv\")\n",
    "amplitudes_55 = pd.read_csv(\"/Resting_State/rsfMRI_matrices/amplitudes_tables/55/amplitudes_55_fin_CLEAN.csv\")\n",
    "full_correlation_21 = pd.read_csv('/Resting_State/rsfMRI_matrices/full_corr_tables/21/fcorr_21_instance_2_FINAL.csv')\n",
    "full_correlation_55 = pd.read_csv('/Resting_State/rsfMRI_matrices/full_corr_tables/55/fcorr_55_instance_2_FINAL.csv')\n",
    "partial_correlation_21 = pd.read_csv(\"/Resting_State/rsfMRI_matrices/partial_corr_tables/21/pcorr_21_instance_2_FINAL.csv\")\n",
    "partial_correlation_55 = pd.read_csv(\"/Resting_State/rsfMRI_matrices/partial_corr_tables/55/pcorr_55_instance_2_FINAL.csv\")"
   ]
  },
  {
   "cell_type": "code",
   "execution_count": null,
   "metadata": {},
   "outputs": [],
   "source": [
    "def generate_column_names_21(components):\n",
    "    column_names = []\n",
    "    for i in range(1, len(components)):\n",
    "        for j in range(i):\n",
    "            column_names.append(f'Component {components[i]} & Component {components[j]} (21 IC)')\n",
    "    return column_names\n",
    "\n",
    "def generate_column_names_55(components):\n",
    "    column_names = []\n",
    "    for i in range(1, len(components)):\n",
    "        for j in range(i):\n",
    "            column_names.append(f'Component {components[i]} & Component {components[j]} (55 IC)')\n",
    "    return column_names\n",
    "\n",
    "# Original components\n",
    "good_21_orig = [1, 2, 3, 5, 6, 7, 8, 9, 10, 11, 12, 13, 14, 15, 16, 17, 18, 19, 20, 21, 22]\n",
    "good_55_orig = [2,  3,  4,  5,  6,  7,  8,  9, 10, 11, 12, 13, 14, 15, 16, 17, 18, 19, 20, 21, 22, 23, 24, 25, 26, 27, 28, 29, 30, 31, 32, 33, 34, 35, 36, 37, 38, 39,\n",
    "                40, 41, 42, 43, 45, 46, 48, 49, 50, 52, 53, 57, 58, 60, 63, 64, 93]\n",
    "\n",
    "\n",
    "# Generate column names\n",
    "column_names_21 = generate_column_names_21(good_21_orig)\n",
    "column_names_55 = generate_column_names_55(good_55_orig)"
   ]
  },
  {
   "cell_type": "code",
   "execution_count": null,
   "metadata": {},
   "outputs": [],
   "source": [
    "dfs = ['full_correlation_21', 'partial_correlation_21']\n",
    "for df in dfs:\n",
    "    globals()[df].columns = ['ID'] + column_names_21\n",
    "    # Save the updated DataFrames back to CSV files\n",
    "    globals()[df].to_csv(f'/Resting_State/rsfMRI_matrices/{df}_fin_renamed', index=False)\n",
    "    print(f\"Columns renamed for fold {df}\")"
   ]
  },
  {
   "cell_type": "code",
   "execution_count": null,
   "metadata": {},
   "outputs": [],
   "source": [
    "dfs_55 = ['full_correlation_55', 'partial_correlation_55']\n",
    "for df in dfs_55:\n",
    "    globals()[df].columns = ['ID'] + column_names_55\n",
    "    # Save the updated DataFrames back to CSV files\n",
    "    globals()[df].to_csv(f'/Resting_State/rsfMRI_matrices/{df}_fin_renamed', index=False)\n",
    "    print(f\"Columns renamed for fold {df}\")"
   ]
  },
  {
   "cell_type": "markdown",
   "metadata": {},
   "source": [
    "# rsMRI confounds!"
   ]
  },
  {
   "cell_type": "markdown",
   "metadata": {},
   "source": [
    "[Forum](https://www.jiscmail.ac.uk/cgi-bin/webadmin?A0=UKB-NEUROIMAGING)\n",
    "\n",
    "# List of confounds from DTI\n",
    "\n",
    "- Head size: 25000\n",
    "- Site: 54\n",
    "\n",
    "*Other*\n",
    "- Discrepancy between dMRI brain image and T1 brain image: 25737\n",
    "- dMRIScaling: 25928 (Intensity scaling for dMRI)\n",
    "- Acquisition date: 53\n",
    "\n",
    "*Table position*\n",
    "- X-position of centre-of-gravity of brain mask in scanner co-ordinates: 25756\n",
    "- Z-position of centre-of-gravity of brain mask in scanner co-ordinates: 25758\n",
    "- Y-position of back of brain mask in scanner co-ordinates: 25757\n",
    "- Scanner table position: 25759 (Z-co-ordinate of the coil (and the scanner table that the coil sits on) within the scanner. The Z axis points down the centre of the magnet) / -999999 represents \"Measure not cleanly recoverable from data\"\n",
    "\n",
    "*Head Motion*\n",
    "- 90th percentile of relative head motion from dMRI: 24455\n",
    "- 90th percentile of absolute head motion from dMRI: 24452\n",
    "- Mean absolute head motion from dMRI: 24450\n",
    "- Mean relative head motion from dMRI: 24453\n",
    "- Median absolute head motion from dMRI: 24451\n",
    "- Median relative head motion from dMRI: 24454\n",
    "- STRUCT MOTION: 24419\n",
    "\n",
    "*Eddy*\n",
    "- Number of slices that Eddy estimated to be outliers in dMRI data: 24456\n",
    "- Number of dMRI outlier slices detected and corrected: 25746\n",
    "- New Eddy: 25921 (Whether increased search space in eddy current estimation was used for dMRI)\n",
    "- YTranslation: 25922 (Standard deviation of apparent translation in the Y axis as measured by eddy)\n",
    "\n",
    "- Discrepancy between T1 brain image and standard-space brain template (linearly-aligned): 25731\n",
    "- Discrepancy between T1 brain image and standard-space brain template (nonlinearly-aligned): 25732\n",
    "- Mean rfMRI head motion, averaged across space and time points: 25741\n",
    "- Mean tfMRI head motion, averaged across space and time points: 25742"
   ]
  },
  {
   "cell_type": "markdown",
   "metadata": {},
   "source": [
    "[Forum](https://www.jiscmail.ac.uk/cgi-bin/webadmin?A0=UKB-NEUROIMAGING)\n",
    "\n",
    "# List of confounds for rsMRI\n",
    "\n",
    "**Main**\n",
    "\n",
    "- Head size: 25000\n",
    "- Site: 54\n",
    "\n",
    "*Head motion*\n",
    "- Mean rfMRI head motion, averaged across space and time points: 25741\n",
    "- Mean absolute head motion from rfMRI 24438\n",
    "- Mean of mean (across space) in-plane displacement from rfMRI 24457\n",
    "- Mean of mean (across space) of Z displacement from rfMRI 24460\n",
    "- Mean relative head motion from rfMRI 24441\n",
    "- 90th percentile of absolute head motion from rfMRI 24440\t\n",
    "- 90th percentile of mean (across space) in-plane displacement from rfMRI 24459\t\n",
    "- 90th percentile of mean (across space) of Z displacement from rfMRI 24462\t\n",
    "- 90th percentile of mean (across time) in-plane displacement from rfMRI 24464\t\n",
    "- 90th percentile of mean (across time) of Z displacement from rfMRI 24466\t\n",
    "- 90th percentile of relative head motion from rfMRI 24443\n",
    "- Median absolute head motion from rfMRI 24439\n",
    "- Median of mean (across space) in-plane displacement from rfMRI 24458\n",
    "- Median of mean (across space) of Z displacement from rfMRI 24461\n",
    "- Median of mean (across time) in-plane displacement from rfMRI 24463\n",
    "- Median of mean (across time) of Z displacement from rfMRI 24465\n",
    "- Median relative head motion from rfMRI 24442\n",
    "\n",
    "*Non-rs Head motion*\n",
    "- STRUCT MOTION: 24419\n",
    "\n",
    "rs-specific confounds\n",
    "- Inverted temporal signal-to-noise ratio in artefact-cleaned pre-processed rfMRI 25744\n",
    "- Discrepancy between rfMRI brain image and T1 brain image 25739\n",
    "- Intensity scaling for rfMRI 25929\t\n",
    "\n",
    "*Other*\n",
    "- Acquisition date: 53\n",
    "\n",
    "\n",
    "*Table position - from structural brain MRI*\n",
    "- X-position of centre-of-gravity of brain mask in scanner co-ordinates: 25756\n",
    "- Z-position of centre-of-gravity of brain mask in scanner co-ordinates: 25758\n",
    "- Y-position of back of brain mask in scanner co-ordinates: 25757\n",
    "- Scanner table position: 25759 (Z-co-ordinate of the coil (and the scanner table that the coil sits on) within the scanner. The Z axis points down the centre of the magnet) / -999999 represents \"Measure not cleanly recoverable from data\"\n",
    "- Discrepancy between T1 brain image and standard-space brain template (linearly-aligned): 25731\n",
    "- Discrepancy between T1 brain image and standard-space brain template (nonlinearly-aligned): 25732\n",
    "\n",
    "\n",
    "EXCLUDE\n",
    "25923\tEcho Time for rfMRI\n",
    "\n",
    "Absolute head motion = referenced to middle time-point, i.e., from a reference position\n",
    "Relative head motion = compared with previous time-point, i.e., between consecutive volumes"
   ]
  },
  {
   "cell_type": "markdown",
   "metadata": {},
   "source": [
    "ALL RS CONFOUNDS\n",
    "\n",
    "- 24440\t90th percentile of absolute head motion from rfMRI\n",
    "- 24459\t90th percentile of mean (across space) in-plane displacement from rfMRI\n",
    "- 24462\t90th percentile of mean (across space) of Z displacement from rfMRI\n",
    "- 24464\t90th percentile of mean (across time) in-plane displacement from rfMRI\n",
    "- 24466\t90th percentile of mean (across time) of Z displacement from rfMRI\n",
    "- 24443\t90th percentile of relative head motion from rfMRI\n",
    "- 24434\tDVARS 90th percentile D from cleaned rfMRI\n",
    "- 24425\tDVARS 90th percentile D from uncleaned rfMRI\n",
    "- 24431\tDVARS 90th percentile S from cleaned rfMRI\n",
    "- 24422\tDVARS 90th percentile S from uncleaned rfMRI\n",
    "- 24437\tDVARS 90th percentile SD from cleaned rfMRI\n",
    "- 24428\tDVARS 90th percentile SD from uncleaned rfMRI\n",
    "- 24432\tDVARS Mean D from cleaned rfMRI\n",
    "- 24423\tDVARS Mean D from uncleaned rfMRI\n",
    "- 24429\tDVARS Mean S from cleaned rfMRI\n",
    "- 24420\tDVARS Mean S from uncleaned rfMRI\n",
    "- 24435\tDVARS Mean SD from cleaned rfMRI\n",
    "- 24426\tDVARS Mean SD from uncleaned rfMRI\n",
    "- 24433\tDVARS Median D from cleaned rfMRI\n",
    "- 24424\tDVARS Median D from uncleaned rfMRI\n",
    "- 24430\tDVARS Median S from cleaned rfMRI\n",
    "- 24421\tDVARS Median S from uncleaned rfMRI\n",
    "- 24436\tDVARS Median SD from cleaned rfMRI\n",
    "- 24427\tDVARS Median SD from uncleaned rfMRI\n",
    "- 25923\tEcho Time for rfMRI\n",
    "- 25929\tIntensity scaling for rfMRI\n",
    "- 24438\tMean absolute head motion from rfMRI\n",
    "- 24457\tMean of mean (across space) in-plane displacement from rfMRI\n",
    "- 24460\tMean of mean (across space) of Z displacement from rfMRI\n",
    "- 24441\tMean relative head motion from rfMRI\n",
    "- 24439\tMedian absolute head motion from rfMRI\n",
    "- 24458\tMedian of mean (across space) in-plane displacement from rfMRI\n",
    "- 24461\tMedian of mean (across space) of Z displacement from rfMRI\n",
    "- 24463\tMedian of mean (across time) in-plane displacement from rfMRI\n",
    "- 24465\tMedian of mean (across time) of Z displacement from rfMRI\n",
    "- 24442\tMedian relative head motion from rfMRI\n",
    "- 25739\tDiscrepancy between rfMRI brain image and T1 brain image\n",
    "- 25741\tMean rfMRI head motion, averaged across space and time points\n",
    "- 25744\tInverted temporal signal-to-noise ratio in artefact-cleaned pre-processed rfMRI\n",
    "- 25743\tInverted temporal signal-to-noise ratio in pre-processed rfMRI"
   ]
  },
  {
   "cell_type": "markdown",
   "metadata": {},
   "source": [
    "RS CONFOUNDS TO CHECK\n",
    "\n",
    "- 24440\t90th percentile of absolute head motion from rfMRI\n",
    "- 24459\t90th percentile of mean (across space) in-plane displacement from rfMRI\n",
    "- 24462\t90th percentile of mean (across space) of Z displacement from rfMRI\n",
    "- 24464\t90th percentile of mean (across time) in-plane displacement from rfMRI\n",
    "- 24466\t90th percentile of mean (across time) of Z displacement from rfMRI\n",
    "- 24443\t90th percentile of relative head motion from rfMRI\n",
    "- 24434\tDVARS 90th percentile D from cleaned rfMRI\n",
    "- 24431\tDVARS 90th percentile S from cleaned rfMRI\n",
    "- 24437\tDVARS 90th percentile SD from cleaned rfMRI\n",
    "- 24432\tDVARS Mean D from cleaned rfMRI\n",
    "- 24429\tDVARS Mean S from cleaned rfMRI\n",
    "- 24435\tDVARS Mean SD from cleaned rfMRI\n",
    "- 24433\tDVARS Median D from cleaned rfMRI\n",
    "- 24430\tDVARS Median S from cleaned rfMRI\n",
    "- 24436\tDVARS Median SD from cleaned rfMRI\n",
    "- 25923\tEcho Time for rfMRI\n",
    "- 25929\tIntensity scaling for rfMRI\n",
    "- 24438\tMean absolute head motion from rfMRI\n",
    "- 24457\tMean of mean (across space) in-plane displacement from rfMRI\n",
    "- 24460\tMean of mean (across space) of Z displacement from rfMRI\n",
    "- 24441\tMean relative head motion from rfMRI\n",
    "- 24439\tMedian absolute head motion from rfMRI\n",
    "- 24458\tMedian of mean (across space) in-plane displacement from rfMRI\n",
    "- 24461\tMedian of mean (across space) of Z displacement from rfMRI\n",
    "- 24463\tMedian of mean (across time) in-plane displacement from rfMRI\n",
    "- 24465\tMedian of mean (across time) of Z displacement from rfMRI\n",
    "- 24442\tMedian relative head motion from rfMRI\n",
    "- 25739\tDiscrepancy between rfMRI brain image and T1 brain image\n",
    "- 25741\tMean rfMRI head motion, averaged across space and time points\n",
    "- 25744\tInverted temporal signal-to-noise ratio in artefact-cleaned pre-processed rfMRI\n",
    "- 25743\tInverted temporal signal-to-noise ratio in pre-processed rfMRI"
   ]
  },
  {
   "cell_type": "markdown",
   "metadata": {},
   "source": [
    "[Cole: Multimodality neuroimaging brain-age in UK biobank: relationship to biomedical, lifestyle, and cognitive factors](https://www.ncbi.nlm.nih.gov/pmc/articles/PMC7280786/)\n",
    "\n",
    "[Predicting sex, age, general cognition and mental health with machine learning on brain structural connectomes](https://onlinelibrary.wiley.com/doi/full/10.1002/hbm.26182)\n",
    "\n",
    "age2, sex, height, volumetric scaling from T1-weighted MRI to standard (data field #25000), and mean task fMRI head motion (averaged across space and time points; data field #25742) as covariates"
   ]
  },
  {
   "cell_type": "code",
   "execution_count": null,
   "metadata": {},
   "outputs": [],
   "source": [
    "csv_path = '/FULL/ukb.csv'\n",
    "ukb = ukbiobank.ukbio(ukb_csv=csv_path)"
   ]
  },
  {
   "cell_type": "code",
   "execution_count": null,
   "metadata": {},
   "outputs": [],
   "source": [
    "df_rs_conf = ukbiobank.utils.utils.loadCsv(ukbio=ukb, fields=['eid',\n",
    "25000,\n",
    "54,\n",
    "53,\n",
    "25758,\n",
    "25756,\n",
    "25757,\n",
    "25759,\n",
    "25731,\n",
    "25732,\n",
    "25923,\n",
    "25929,\n",
    "25739,\n",
    "25741,\n",
    "25744,\n",
    "25743\n",
    "], instance=2)\n",
    "#24419 STRUCT MOTION\n",
    "#The following variables were not found:\n",
    "#[24440, 24459, 24462, 24464, 24466, 24443, 24434, 24431, 24437, 24432, 24429, 24435, 24433, 24430, 24436, 24438, 24457, 24460, 24441, 24439, 24458, 24461, 24463, 24465, 24442]"
   ]
  },
  {
   "cell_type": "code",
   "execution_count": null,
   "metadata": {},
   "outputs": [],
   "source": [
    "rs_conf = addFields(ukbio=ukb, df=df_rs_conf, fields=['eid',\n",
    "25000,\n",
    "54,\n",
    "53,\n",
    "25758,\n",
    "25756,\n",
    "25757,\n",
    "25759,\n",
    "25731,\n",
    "25732,\n",
    "25923,\n",
    "25929,\n",
    "25739,\n",
    "25741,\n",
    "25744,\n",
    "25743], instances=2)"
   ]
  },
  {
   "cell_type": "code",
   "execution_count": null,
   "metadata": {},
   "outputs": [],
   "source": [
    "rs_conf_names = ukbiobank.utils.utils.fieldIdsToNames(ukbio=ukb, df=df_rs_conf)"
   ]
  },
  {
   "cell_type": "markdown",
   "metadata": {},
   "source": [
    "**Get confounds that could not be uploaded from the main csv file**\n",
    "\n",
    "- 24419 STRUCT MOTION\n",
    "- 24456 X-position of centre-of-gravity of brain mask in scanner co-ordinates\n",
    "- 24440, 24459, 24462, 24464, 24466, 24443, 24434, 24431, 24437, 24432, 24429, 24435, 24433, 24430, 24436, 24438, 24457, 24460, 24441, 24439, 24458, 24461, 24463, 24465, 24442"
   ]
  },
  {
   "cell_type": "markdown",
   "metadata": {},
   "source": [
    "Now need to get from the UK Biobank desired fields"
   ]
  },
  {
   "cell_type": "code",
   "execution_count": null,
   "metadata": {},
   "outputs": [],
   "source": [
    "rs_conf_add = pd.read_csv('/Oct_2023_resting_conf/ukb.csv')\n",
    "rs_conf_add_selected = rs_conf_add[['eid',\n",
    "                                    '24419-2.0',\n",
    "                                    '24440-2.0',\n",
    "                                    '24459-2.0',\n",
    "                                    '24462-2.0',\n",
    "                                    '24464-2.0',\n",
    "                                    '24466-2.0',\n",
    "                                    '24443-2.0', \n",
    "                                    '24434-2.0',\n",
    "                                    '24431-2.0',\n",
    "                                    '24437-2.0',\n",
    "                                    '24432-2.0',\n",
    "                                    '24429-2.0',\n",
    "                                    '24435-2.0',\n",
    "                                    '24433-2.0',\n",
    "                                    '24430-2.0', \n",
    "                                    '24436-2.0', \n",
    "                                    '24438-2.0',\n",
    "                                    '24457-2.0',\n",
    "                                    '24460-2.0',\n",
    "                                    '24441-2.0',\n",
    "                                    '24439-2.0',\n",
    "                                    '24458-2.0',\n",
    "                                    '24461-2.0',\n",
    "                                    '24463-2.0',\n",
    "                                    '24465-2.0',\n",
    "                                    '24442-2.0']]"
   ]
  },
  {
   "cell_type": "markdown",
   "metadata": {},
   "source": [
    "Rename"
   ]
  },
  {
   "cell_type": "code",
   "execution_count": null,
   "metadata": {},
   "outputs": [],
   "source": [
    "rs_conf_add_selected.columns = ['eid',\n",
    "                                    'Struct. motion',\n",
    "                                    '90th percentile of absolute head motion from rfMRI',\n",
    "                                    '90th percentile of mean (across space) in-plane displacement from rfMRI',\n",
    "                                    '90th percentile of mean (across space) of Z displacement from rfMRI',\n",
    "                                    '90th percentile of mean (across time) in-plane displacement from rfMRI',\n",
    "                                    '90th percentile of mean (across time) of Z displacement from rfMRI',\n",
    "                                    '90th percentile of relative head motion from rfMRI', \n",
    "                                    'DVARS 90th percentile D from cleaned rfMRI',\n",
    "                                    'DVARS 90th percentile S from cleaned rfMRI',\n",
    "                                    'DVARS 90th percentile SD from cleaned rfMRI',\n",
    "                                    'DVARS Mean D from cleaned rfMRI',\n",
    "                                    'DVARS Mean S from cleaned rfMRI',\n",
    "                                    'DVARS Mean SD from cleaned rfMRI',\n",
    "                                    'DVARS Median D from cleaned rfMRI',\n",
    "                                    'DVARS Median S from cleaned rfMRI', \n",
    "                                    'DVARS Median SD from cleaned rfMRI', \n",
    "                                    'Mean absolute head motion from rfMRI',\n",
    "                                    'Mean of mean (across space) in-plane displacement from rfMRI',\n",
    "                                    'Mean of mean (across space) of Z displacement from rfMRI',\n",
    "                                    'Mean relative head motion from rfMRI',\n",
    "                                    'Median absolute head motion from rfMRI',\n",
    "                                    'Median of mean (across space) in-plane displacement from rfMRI',\n",
    "                                    'Median of mean (across space) of Z displacement from rfMRI',\n",
    "                                    'Median of mean (across time) in-plane displacement from rfMRI',\n",
    "                                    'Median of mean (across time) of Z displacement from rfMRI',\n",
    "                                    'Median relative head motion from rfMRI']\n",
    "\n",
    "#24440\t90th percentile of absolute head motion from rfMRI\n",
    "#24459\t90th percentile of mean (across space) in-plane displacement from rfMRI\n",
    "#24462\t90th percentile of mean (across space) of Z displacement from rfMRI\n",
    "#24464\t90th percentile of mean (across time) in-plane displacement from rfMRI\n",
    "#24466\t90th percentile of mean (across time) of Z displacement from rfMRI\n",
    "#24443\t90th percentile of relative head motion from rfMRI\n",
    "#24434\tDVARS 90th percentile D from cleaned rfMRI\n",
    "#24431\tDVARS 90th percentile S from cleaned rfMRI\n",
    "#24437\tDVARS 90th percentile SD from cleaned rfMRI\n",
    "#24432\tDVARS Mean D from cleaned rfMRI\n",
    "#24429\tDVARS Mean S from cleaned rfMRI\n",
    "#24435\tDVARS Mean SD from cleaned rfMRI\n",
    "#24433\tDVARS Median D from cleaned rfMRI\n",
    "#24430\tDVARS Median S from cleaned rfMRI\n",
    "#24436\tDVARS Median SD from cleaned rfMRI\n",
    "#25923\tEcho Time for rfMRI\n",
    "#25929\tIntensity scaling for rfMRI\n",
    "#24438\tMean absolute head motion from rfMRI\n",
    "#24457\tMean of mean (across space) in-plane displacement from rfMRI\n",
    "#24460\tMean of mean (across space) of Z displacement from rfMRI\n",
    "#24441\tMean relative head motion from rfMRI\n",
    "#24439\tMedian absolute head motion from rfMRI\n",
    "#24458\tMedian of mean (across space) in-plane displacement from rfMRI\n",
    "#24461\tMedian of mean (across space) of Z displacement from rfMRI\n",
    "#24463\tMedian of mean (across time) in-plane displacement from rfMRI\n",
    "#24465\tMedian of mean (across time) of Z displacement from rfMRI\n",
    "#24442\tMedian relative head motion from rfMRI\n",
    "#25739\tDiscrepancy between rfMRI brain image and T1 brain image\n",
    "#25741\tMean rfMRI head motion, averaged across space and time points\n",
    "#25744\tInverted temporal signal-to-noise ratio in artefact-cleaned pre-processed rfMRI\n",
    "#25743\tInverted temporal signal-to-noise ratio in pre-processed rfMRI"
   ]
  },
  {
   "cell_type": "code",
   "execution_count": null,
   "metadata": {},
   "outputs": [],
   "source": [
    "rs_confounds_full = rs_conf_names.merge(rs_conf_add_selected, how='inner', on='eid')\n",
    "rs_confounds_full.to_csv(r'/ML_DATASETS/Brain/rsMRI/rs_confounds_full.csv', index=False)\n",
    "rs_confounds_full = rs_confounds_full.rename(columns={'eid': 'ID'})"
   ]
  },
  {
   "cell_type": "markdown",
   "metadata": {},
   "source": [
    "Explore confounds"
   ]
  },
  {
   "cell_type": "code",
   "execution_count": null,
   "metadata": {},
   "outputs": [],
   "source": [
    "from scipy.stats import pearsonr, spearmanr\n",
    "rs_confounds_full_nona = rs_confounds_full.copy().dropna(axis=0)\n",
    "rho, p = spearmanr(rs_confounds_full_nona)\n",
    "p = pd.DataFrame(p, columns = rs_confounds_full_nona.columns, index=rs_confounds_full_nona.columns)\n",
    "p = p.T\n",
    "rho = pd.DataFrame(rho, columns = rs_confounds_full_nona.columns, index=rs_confounds_full_nona.columns)\n",
    "rho = rho.T\n",
    "rho"
   ]
  },
  {
   "cell_type": "markdown",
   "metadata": {},
   "source": [
    "Extract only significant rho"
   ]
  },
  {
   "cell_type": "code",
   "execution_count": null,
   "metadata": {},
   "outputs": [],
   "source": [
    "rho_sign = rho.where(rho > 0.7)\n",
    "with pd.option_context('display.max_columns', None):\n",
    "    display(rho_sign)"
   ]
  },
  {
   "cell_type": "markdown",
   "metadata": {},
   "source": [
    "Extract correlations that are aboe 0.7"
   ]
  },
  {
   "cell_type": "code",
   "execution_count": null,
   "metadata": {},
   "outputs": [],
   "source": [
    "#rho_sign = [rho[col][rho[col] > 0.7].values for col in rho.columns]\n",
    "for i, col in enumerate(rho.columns):\n",
    "    rho_sign = rho[col][(rho[col] > 0.7) & (rho[col] < 1.0)]\n",
    "    if not rho_sign.isna().all():\n",
    "        positions = [rho.columns.get_loc(label) for label in rho_sign.index]\n",
    "        print(col, 'is correlated with', rho.columns[positions], 'with values', rho_sign.values)"
   ]
  },
  {
   "cell_type": "markdown",
   "metadata": {},
   "source": [
    "# Full cycle to get confounds"
   ]
  },
  {
   "cell_type": "code",
   "execution_count": null,
   "metadata": {},
   "outputs": [],
   "source": [
    "import datetime\n",
    "rs_confounds = pd.read_csv('/ML_DATASETS/Brain/rsMRI/rs_confounds_full.csv')\n",
    "rs_confounds.columns = rs_confounds.columns.str.replace(\"-2.0\", \"\")\n",
    "rs_confounds_nona = rs_confounds.dropna(axis=0).reset_index(drop=True)\n",
    "rs_confounds_nona['Date of attending assessment centre'] = pd.to_datetime(rs_confounds_nona['Date of attending assessment centre'], format=\"%Y-%m-%d\")  #\"%m/%d/%Y\")\n",
    "rs_confounds_nona['Date of attending assessment centre'] = rs_confounds_nona['Date of attending assessment centre'].apply(datetime.datetime.timestamp)\n",
    "# Round values\n",
    "rs_confounds_nona['Date of attending assessment centre'] = rs_confounds_nona['Date of attending assessment centre'].apply(int)\n",
    "rs_confounds_nona_dummy = pd.get_dummies(rs_confounds_nona, columns=['UK Biobank assessment centre'], dtype=int)\n",
    "rs_confounds_nona_dummy\n",
    "\n",
    "rs_confounds_fin = rs_confounds_nona_dummy.drop(columns=['90th percentile of mean (across space) in-plane displacement from rfMRI',\n",
    "                                    '90th percentile of mean (across space) of Z displacement from rfMRI',\n",
    "                                    '90th percentile of mean (across time) in-plane displacement from rfMRI',\n",
    "                                    '90th percentile of mean (across time) of Z displacement from rfMRI',\n",
    "                                    '90th percentile of relative head motion from rfMRI',\n",
    "                                    'DVARS Median SD from cleaned rfMRI',\n",
    "                                    'Mean absolute head motion from rfMRI',\n",
    "                                    'Mean of mean (across space) in-plane displacement from rfMRI',\n",
    "                                    'Mean of mean (across space) of Z displacement from rfMRI',\n",
    "                                    'Mean relative head motion from rfMRI',\n",
    "                                    'Median of mean (across space) in-plane displacement from rfMRI',\n",
    "                                    'Median of mean (across space) of Z displacement from rfMRI',\n",
    "                                    'Median of mean (across time) in-plane displacement from rfMRI',\n",
    "                                    'Median of mean (across time) of Z displacement from rfMRI',\n",
    "                                    '90th percentile of absolute head motion from rfMRI'])\n",
    "rs_confounds_fin.to_csv('/ML_DATASETS/Brain/rsMRI/rs_confounds_fin_full.csv', index=False)"
   ]
  },
  {
   "cell_type": "markdown",
   "metadata": {},
   "source": [
    "Drop these two:\n",
    "\n",
    "- 24463\tMedian of mean (across time) in-plane displacement from rfMRI\tResting functional brain MRI  \n",
    "- 24465\tMedian of mean (across time) of Z displacement from rfMRI\tResting functional brain MRI  \n",
    "\n",
    "because they are highly correlated with 'Mean rfMRI head motion, averaged across space and time points'"
   ]
  }
 ],
 "metadata": {
  "kernelspec": {
   "display_name": "ib",
   "language": "python",
   "name": "python3"
  },
  "language_info": {
   "codemirror_mode": {
    "name": "ipython",
    "version": 3
   },
   "file_extension": ".py",
   "mimetype": "text/x-python",
   "name": "python",
   "nbconvert_exporter": "python",
   "pygments_lexer": "ipython3",
   "version": "3.11.11"
  }
 },
 "nbformat": 4,
 "nbformat_minor": 2
}
