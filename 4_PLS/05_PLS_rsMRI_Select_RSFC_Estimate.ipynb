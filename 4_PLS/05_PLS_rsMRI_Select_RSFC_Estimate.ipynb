{
 "cells": [
  {
   "cell_type": "code",
   "execution_count": null,
   "metadata": {},
   "outputs": [],
   "source": [
    "import csv\n",
    "import os\n",
    "import random\n",
    "import pickle\n",
    "import gc\n",
    "import pandas as pd\n",
    "import numpy as np\n",
    "from scipy import stats\n",
    "import matplotlib.pyplot as plt\n",
    "import sklearn\n",
    "import warnings\n",
    "from scipy.stats import pearsonr, spearmanr\n",
    "from sklearn.model_selection import KFold, GridSearchCV, cross_val_score, KFold, train_test_split\n",
    "from sklearn.preprocessing import StandardScaler\n",
    "from sklearn.cross_decomposition import PLSRegression\n",
    "from sklearn.metrics import mean_squared_error, mean_absolute_error, r2_score\n",
    "from sklearn.linear_model import ElasticNet\n",
    "from sklearn.exceptions import ConvergenceWarning"
   ]
  },
  {
   "cell_type": "markdown",
   "metadata": {},
   "source": [
    "# Select the best rsMRI modality based on train performance"
   ]
  },
  {
   "cell_type": "code",
   "execution_count": null,
   "metadata": {},
   "outputs": [],
   "source": [
    "rs_modalities = [\n",
    "# RS TS\n",
    "# Full corr\n",
    "'aparc_Tian_s1_full_correlation', \n",
    "'aparc_2009_Tian_s1_full_correlation',\n",
    "'glasser_Tian_s1_full_correlation',\n",
    "'glasser_Tian_s4_full_correlation',\n",
    "'Schaefer7n200p_tian_s1_full_correlation',\n",
    "'Schaefer7n500p_Tian_s4_full_correlation',\n",
    "\n",
    "# Partial corr\n",
    "'aparc_Tian_s1_partial_correlation', \n",
    "'aparc_2009_Tian_s1_partial_correlation',\n",
    "'glasser_Tian_s1_partial_correlation',\n",
    "'glasser_Tian_s4_partial_correlation',\n",
    "'Schaefer7n200p_tian_s1_partial_correlation',\n",
    "'Schaefer7n500p_Tian_s4_partial_correlation',\n",
    "\n",
    "# Tangent\n",
    "'aparc_Tian_s1',\n",
    "'aparc_2009_Tian_s1',\n",
    "'glasser_Tian_s1',\n",
    "'glasser_Tian_s4',\n",
    "'Schaefer7n200p_tian_s1',\n",
    "'Schaefer7n500p_tian_s4',\n",
    "\n",
    "# RS IDP\n",
    "'full_correlation_21', 'full_correlation_55',\n",
    "'partial_correlation_21', 'partial_correlation_55',\n",
    "'tangent_matrices_21', 'tangent_matrices_55']"
   ]
  },
  {
   "cell_type": "code",
   "execution_count": null,
   "metadata": {},
   "outputs": [],
   "source": [
    "performance_list = []\n",
    "folds = [\"1\", \"2\", \"3\", \"4\"]\n",
    "for fold in folds:\n",
    "    for modality in rs_modalities:\n",
    "        with open(f'/PLS/brain/rs/parcellations/fold_{fold}/{modality}_model_fold_{fold}.pkl', \"rb\") as mo:\n",
    "            model = pickle.load(mo)\n",
    "            \n",
    "        perf = {\n",
    "            'Fold': fold,\n",
    "            'Modality': modality,\n",
    "            'n_components': model.best_params_,\n",
    "            'Mean_test_scores': model.cv_results_['mean_test_score'],\n",
    "            'Best_score': model.cv_results_['mean_test_score'].max()\n",
    "            }\n",
    "        # mean_test_score in cv_results corresponds to performance in the training set!\n",
    "        \n",
    "        performance_list.append(perf)\n",
    "\n",
    "performance = pd.DataFrame(performance_list)"
   ]
  },
  {
   "cell_type": "code",
   "execution_count": null,
   "metadata": {},
   "outputs": [],
   "source": [
    "with pd.option_context('display.max_rows', None):\n",
    "    display(performance)"
   ]
  },
  {
   "cell_type": "code",
   "execution_count": null,
   "metadata": {},
   "outputs": [],
   "source": [
    "performance_mean = performance[['Modality', 'Best_score']] #the less negative the better\n",
    "performance_mean.groupby(['Modality']).mean().round(3).sort_values(by='Best_score', ascending=False)"
   ]
  },
  {
   "cell_type": "code",
   "execution_count": null,
   "metadata": {},
   "outputs": [],
   "source": [
    "# Performance plot for one of the models\n",
    "n_components = model.cv_results_['param_n_components'].data\n",
    "mean_test_scores = model.cv_results_['mean_test_score']\n",
    "plt.plot(n_components, mean_test_scores, marker='o')\n",
    "plt.xlabel('Number of Components')\n",
    "plt.ylabel('Mean Test Score')"
   ]
  }
 ],
 "metadata": {
  "kernelspec": {
   "display_name": "ukbiobank_py11",
   "language": "python",
   "name": "python3"
  },
  "language_info": {
   "codemirror_mode": {
    "name": "ipython",
    "version": 3
   },
   "file_extension": ".py",
   "mimetype": "text/x-python",
   "name": "python",
   "nbconvert_exporter": "python",
   "pygments_lexer": "ipython3",
   "version": "3.11.7"
  }
 },
 "nbformat": 4,
 "nbformat_minor": 2
}
