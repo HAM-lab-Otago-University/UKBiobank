{
 "cells": [
  {
   "cell_type": "code",
   "execution_count": null,
   "metadata": {},
   "outputs": [],
   "source": [
    "import csv\n",
    "import os\n",
    "import warnings\n",
    "import pickle\n",
    "import pandas as pd\n",
    "import numpy as np\n",
    "from scipy import stats\n",
    "import matplotlib.pyplot as plt\n",
    "from matplotlib.ticker import MultipleLocator, MaxNLocator\n",
    "import matplotlib.ticker as ticker\n",
    "from matplotlib import colors\n",
    "import matplotlib.ticker as plticker\n",
    "import sklearn\n",
    "from wordcloud import WordCloud\n",
    "import matplotlib.colors as mcolors\n",
    "import seaborn as sns\n",
    "from textwrap import wrap\n",
    "from scipy.stats import pearsonr\n",
    "from sklearn.model_selection import KFold\n",
    "from sklearn.preprocessing import StandardScaler\n",
    "from sklearn.cross_decomposition import PLSRegression\n",
    "from sklearn.model_selection import GridSearchCV\n",
    "from matplotlib.ticker import FormatStrFormatter\n",
    "from sklearn.model_selection import train_test_split\n",
    "from sklearn.metrics import mean_squared_error, mean_absolute_error, r2_score"
   ]
  },
  {
   "cell_type": "markdown",
   "metadata": {},
   "source": [
    "# PLS on 5 folds"
   ]
  },
  {
   "cell_type": "markdown",
   "metadata": {},
   "source": [
    "## Match mental health to g-factor: 5 folds"
   ]
  },
  {
   "cell_type": "code",
   "execution_count": null,
   "metadata": {},
   "outputs": [],
   "source": [
    "mh = pd.read_csv('Cog-Ment/CSVs/2024/mental_health/mental_health_full_renamed.csv')"
   ]
  },
  {
   "cell_type": "code",
   "execution_count": null,
   "metadata": {},
   "outputs": [],
   "source": [
    "# Match mental health to g-factor: 5 folds\n",
    "folds = [\"0\", \"1\", \"2\", \"3\", \"4\"]\n",
    "seed = 42\n",
    "pls_result = {}\n",
    "result_list = []\n",
    "\n",
    "warnings.simplefilter(action='ignore', category=FutureWarning)\n",
    "\n",
    "for fold in folds:\n",
    "    train_id = pd.read_csv(f'Cog-Ment/g_factor_5_folds_python/fold_{fold}/train_id_fold_{fold}.csv')\n",
    "    test_id = pd.read_csv(f'Cog-Ment/g_factor_5_folds_python/fold_{fold}/test_id_fold_{fold}.csv')\n",
    "\n",
    "    # Upload g-factor with ID\n",
    "    g_train_full = pd.concat([pd.read_csv(f'Cog-Ment/R/g_factor_5_folds/fold_{fold}/g_train_{fold}.csv'), train_id.astype(int)], axis=1) \n",
    "    g_test_full = pd.concat([pd.read_csv(f'Cog-Ment/R/g_factor_5_folds/fold_{fold}/g_test_{fold}.csv'), test_id.astype(int)], axis=1)\n",
    "\n",
    "    # Match mental health data to cognitive data\n",
    "    mh_train_match, mh_test_match = pd.merge(mh, train_id, on='eid'), pd.merge(mh, test_id, on='eid')\n",
    "    mh_train, mh_test = mh_train_match.drop(columns=['eid']), mh_test_match.drop(columns=['eid'])\n",
    "    mh_train.to_csv(f'Cog-Ment/PLS/2024/mental_health/folds/fold_{fold}/suppl/mh_train_fold_{fold}.csv', index=False)\n",
    "    mh_test.to_csv(f'Cog-Ment/PLS/2024/mental_health/folds/fold_{fold}/suppl/mh_test_fold_{fold}.csv', index=False)\n",
    "\n",
    "\n",
    "    # Get IDs\n",
    "    mh_train_id, mh_test_id = mh_train_match['eid'], mh_test_match['eid']\n",
    "    mh_train_id.to_csv(f'Cog-Ment/PLS/2024/mental_health/folds/fold_{fold}/suppl/mh_train_id_fold_{fold}.csv', index=False)\n",
    "    mh_test_id.to_csv(f'Cog-Ment/PLS/2024/mental_health/folds/fold_{fold}/suppl/mh_test_id_fold_{fold}.csv', index=False)\n",
    "\n",
    "    # Match g-factor back to mental health\n",
    "    g_train_match, g_test_match = pd.merge(g_train_full, mh_train_id, on='eid'), pd.merge(g_test_full, mh_test_id, on='eid')\n",
    "    g_train_match['eid'].to_csv(f'Cog-Ment/PLS/2024/mental_health/folds/fold_{fold}/suppl/g_train_matched_id_fold_{fold}.csv', index=False)\n",
    "    g_test_match['eid'].to_csv(f'Cog-Ment/PLS/2024/mental_health/folds/fold_{fold}/suppl/g_test_matched_id_fold_{fold}.csv', index=False)\n",
    "    g_train, g_test = g_train_match.drop(columns=['eid']), g_test_match.drop(columns=['eid'])\n",
    "    g_train.to_csv(f'Cog-Ment/PLS/2024/mental_health/folds/fold_{fold}/suppl/g_train_matched_fold_{fold}.csv', index=False)\n",
    "    g_test.to_csv(f'Cog-Ment/PLS/2024/mental_health/folds/fold_{fold}/suppl/g_test_matched_fold_{fold}.csv', index=False)"
   ]
  },
  {
   "cell_type": "markdown",
   "metadata": {},
   "source": [
    "## Run PLS on 5 folds"
   ]
  },
  {
   "cell_type": "code",
   "execution_count": null,
   "metadata": {},
   "outputs": [],
   "source": [
    "# PLS: Scale only continous scores\n",
    "folds = [\"0\", \"1\", \"2\", \"3\", \"4\"]\n",
    "seed = 42\n",
    "pls_result = {}\n",
    "\n",
    "warnings.simplefilter(action='ignore', category=FutureWarning)\n",
    "\n",
    "for fold in folds:\n",
    "    mh_train = pd.read_csv(f'Cog-Ment/PLS/2024/mental_health/folds/fold_{fold}/suppl/mh_train_fold_{fold}.csv')\n",
    "    mh_test = pd.read_csv(f'Cog-Ment/PLS/2024/mental_health/folds/fold_{fold}/suppl/mh_test_fold_{fold}.csv')\n",
    "\n",
    "    # Scale\n",
    "    scaler = StandardScaler()\n",
    "    mh_train_scaled, mh_test_scaled = pd.DataFrame(scaler.fit_transform(mh_train), columns = mh_train.columns), pd.DataFrame(scaler.transform(mh_test), columns = mh_test.columns)\n",
    "\n",
    "    with open(f'Cog-Ment/PLS/2024/mental_health/folds/fold_{fold}/models/scaler_features_fold_{fold}.pkl', \"wb\") as f:\n",
    "        pickle.dump(scaler, f)\n",
    "\n",
    "    g_train = pd.read_csv(f'Cog-Ment/PLS/2024/mental_health/folds/fold_{fold}/suppl/g_train_matched_fold_{fold}.csv')\n",
    "    g_test = pd.read_csv(f'Cog-Ment/PLS/2024/mental_health/folds/fold_{fold}/suppl/g_test_matched_fold_{fold}.csv')\n",
    "\n",
    "    # Initiate and run PLS\n",
    "    parameters = {'n_components': range(1, np.array(mh_train_scaled).shape[1]+1)} #36\n",
    "    pls = PLSRegression()\n",
    "    model = GridSearchCV(pls, parameters, scoring = 'neg_mean_absolute_error', cv=KFold(10, shuffle = True), verbose=4, n_jobs=17) #, random_state=seed\n",
    "\n",
    "    print(\"Fitting PLS\")\n",
    "    model.fit(np.array(mh_train_scaled), np.array(g_train))\n",
    "    print(f'Best params in fold {fold} = ', model.best_params_)\n",
    "    print(f'Best score (neg_mean_absolute_error) in fold {fold} = ', model.best_score_)\n",
    "\n",
    "    with open(f'Cog-Ment/PLS/2024/mental_health/folds/fold_{fold}/models/mh_pls_model_fold_{fold}.pkl', \"wb\") as f:\n",
    "        pickle.dump(model, f)\n",
    "\n",
    "    # Predict the values\n",
    "    print(f'Predicting g_test in fold {fold}')\n",
    "    g_pred_test = model.predict(np.array(mh_test_scaled))\n",
    "    print(f'Saving g pred fold {fold}')\n",
    "    pd.DataFrame(g_pred_test, columns = ['g_pred_mh']).to_csv(f'Cog-Ment/PLS/2024/mental_health/folds/fold_{fold}/g_pred/g_pred_mh_fold_{fold}.csv', index=False)\n",
    "\n",
    "    print(f\"Fold = {fold}\")\n",
    "    print(\"----------\")\n",
    "    print(\"MSE = \", mean_squared_error(np.array(g_test)[:,0], g_pred_test[:,0]))\n",
    "    print(\"MAE = \", mean_absolute_error(np.array(g_test)[:,0], g_pred_test[:,0]))\n",
    "    print(\"R2 = \", r2_score(np.array(g_test)[:,0], g_pred_test[:,0]))\n",
    "    print(\"Pearson's r = \", pearsonr(np.array(g_test)[:,0], g_pred_test[:,0]))\n",
    "    print(\"----------\")\n",
    "\n",
    "    pls_result['fold'] = fold\n",
    "    pls_result['n_components'] = model.best_params_\n",
    "    pls_result['MSE'] = mean_squared_error(np.array(g_test)[:,0], g_pred_test[:,0])\n",
    "    pls_result['MAE'] = mean_absolute_error(np.array(g_test)[:,0], g_pred_test[:,0])\n",
    "    pls_result['R2'] = r2_score(np.array(g_test)[:,0], g_pred_test[:,0])\n",
    "    pls_result['r'] = pearsonr(np.array(g_test)[:,0], g_pred_test[:,0])\n",
    "\n",
    "    with open(f'Cog-Ment/PLS/2024/mental_health/folds/fold_{fold}/models/MH_Result_PLS_fold_{fold}.csv', 'a', newline='') as f:\n",
    "        writer = csv.DictWriter(f, fieldnames=pls_result.keys())\n",
    "        writer.writerow(pls_result)\n",
    "\n",
    "    pls_result.clear()"
   ]
  },
  {
   "cell_type": "code",
   "execution_count": null,
   "metadata": {},
   "outputs": [],
   "source": [
    "# Upload individual pls results and merge them into one table\n",
    "folds = [\"0\", \"1\", \"2\", \"3\", \"4\"]\n",
    "pls_5_folds = []\n",
    "for fold in folds:\n",
    "    pls = pd.read_csv(f'Cog-Ment/PLS/2024/mental_health/folds/fold_{fold}/models/MH_Result_PLS_fold_{fold}.csv', header=None)\n",
    "    pls.columns = ['Fold', 'n components', 'MSE', 'MAE', 'R2', 'r']\n",
    "    pls_5_folds.append(pls)\n",
    "    mh_result = pd.concat(pls_5_folds, ignore_index=True)\n",
    "\n",
    "mh_result['r'] = mh_result['r'].str.replace(r'PearsonRResult\\(statistic=|pvalue=|\\)', '', regex=True)\n",
    "mh_result[['r', 'p-value']] = mh_result['r'].str.split(',', expand=True).astype(float).round(decimals=3)\n",
    "mh_result = mh_result.round(decimals=3)\n",
    "mh_result.to_csv('Cog-Ment/PLS/2024/mental_health/folds/pls_mh_result_5_folds.csv', index=False)\n",
    "mh_result"
   ]
  },
  {
   "cell_type": "code",
   "execution_count": null,
   "metadata": {},
   "outputs": [],
   "source": [
    "result_5_folds_mean = mh_result[['R2', 'r', 'MSE', 'MAE']].mean().round(2)\n",
    "result_5_folds_mean"
   ]
  },
  {
   "cell_type": "markdown",
   "metadata": {},
   "source": [
    "### Visualize real and predicted g-factors"
   ]
  },
  {
   "cell_type": "code",
   "execution_count": null,
   "metadata": {},
   "outputs": [],
   "source": [
    "# snsn cmaps\n",
    "'Accent', 'Accent_r', 'Blues', 'Blues_r', 'BrBG', 'BrBG_r',\n",
    "'BuGn', 'BuGn_r', 'BuPu', 'BuPu_r', 'CMRmap', 'CMRmap_r',\n",
    "'Dark2', 'Dark2_r', 'GnBu', 'GnBu_r', 'Grays', 'Greens',\n",
    "'Greens_r', 'Greys', 'Greys_r', 'OrRd', 'OrRd_r', 'Oranges',\n",
    "'Oranges_r', 'PRGn', 'PRGn_r', 'Paired', 'Paired_r', 'Pastel1',\n",
    "'Pastel1_r', 'Pastel2', 'Pastel2_r', 'PiYG', 'PiYG_r', 'PuBu',\n",
    "'PuBuGn', 'PuBuGn_r', 'PuBu_r', 'PuOr', 'PuOr_r', 'PuRd', 'PuRd_r',\n",
    "'Purples', 'Purples_r', 'RdBu', 'RdBu_r', 'RdGy', 'RdGy_r', 'RdPu',\n",
    "'RdPu_r', 'RdYlBu', 'RdYlBu_r', 'RdYlGn', 'RdYlGn_r', 'Reds', 'Reds_r',\n",
    "'Set1', 'Set1_r', 'Set2', 'Set2_r', 'Set3', 'Set3_r', 'Spectral',\n",
    "'Spectral_r', 'Wistia', 'Wistia_r', 'YlGn', 'YlGnBu', 'YlGnBu_r',\n",
    "'YlGn_r', 'YlOrBr', 'YlOrBr_r', 'YlOrRd', 'YlOrRd_r', 'afmhot',\n",
    "'afmhot_r', 'autumn', 'autumn_r', 'binary', 'binary_r', 'bone', 'bone_r',\n",
    "'brg', 'brg_r', 'bwr', 'bwr_r', 'cividis', 'cividis_r', 'cool', 'cool_r',\n",
    "'coolwarm', 'coolwarm_r', 'copper', 'copper_r', 'crest', 'crest_r', 'cubehelix',\n",
    "'cubehelix_r', 'flag', 'flag_r', 'flare', 'flare_r', 'gist_earth', 'gist_earth_r',\n",
    "'gist_gray', 'gist_gray_r', 'gist_grey', 'gist_heat', 'gist_heat_r', 'gist_ncar',\n",
    "'gist_ncar_r', 'gist_rainbow', 'gist_rainbow_r', 'gist_stern', 'gist_stern_r', 'gist_yarg',\n",
    "'gist_yarg_r', 'gist_yerg', 'gnuplot', 'gnuplot2', 'gnuplot2_r', 'gnuplot_r', 'gray', 'gray_r',\n",
    "'grey', 'hot', 'hot_r', 'hsv', 'hsv_r', 'icefire', 'icefire_r', 'inferno', 'inferno_r', 'jet',\n",
    "'jet_r', 'magma', 'magma_r', 'mako', 'mako_r', 'nipy_spectral', 'nipy_spectral_r', 'ocean', 'ocean_r',\n",
    "'pink', 'pink_r', 'plasma', 'plasma_r', 'prism', 'prism_r', 'rainbow', 'rainbow_r', 'rocket', 'rocket_r',\n",
    "'seismic', 'seismic_r', 'spring', 'spring_r', 'summer', 'summer_r', 'tab10', 'tab10_r', 'tab20', 'tab20_r',\n",
    "'tab20b', 'tab20b_r', 'tab20c', 'tab20c_r', 'terrain', 'terrain_r', 'turbo', 'turbo_r', 'twilight', 'twilight_r',\n",
    "'twilight_shifted', 'twilight_shifted_r', 'viridis', 'viridis_r', 'vlag', 'vlag_r', 'winter', 'winter_r'"
   ]
  },
  {
   "cell_type": "code",
   "execution_count": null,
   "metadata": {},
   "outputs": [],
   "source": [
    "# Grid\n",
    "folds = [\"0\", \"1\", \"2\", \"3\", \"4\"]\n",
    "\n",
    "fig, axes = plt.subplots(1, 5, figsize=(18.54,3.54), dpi=600) #17, 4\n",
    "axes = axes.flatten() #when you create a grid of subplots with plt.subplots, the axes array is a 2D array if you specify more than one row and column. You need to flatten this array to use it in a single loop\n",
    "\n",
    "for i,fold in enumerate(folds):\n",
    "    y_pred = pd.read_csv(f'Cog-Ment/PLS/2024/mental_health/folds/fold_{fold}/g_pred/g_pred_mh_fold_{fold}.csv')['g_pred_mh']\n",
    "    y_true = pd.read_csv(f'Cog-Ment/PLS/2024/mental_health/folds/fold_{fold}/suppl/g_test_matched_fold_{fold}.csv')['g']\n",
    "    corr, p = pearsonr(y_true, y_pred)\n",
    "    r2 = r2_score(y_true, y_pred)\n",
    "        \n",
    "    dist_i = np.sqrt((y_true - y_pred.mean())**2 + (y_pred - y_pred.mean())**2)\n",
    "    sns.scatterplot(x=y_true, y=y_pred, c=dist_i, cmap='Greens', s=40, alpha=0.8, ax=axes[i]) #'flare'\n",
    "    sns.regplot(x=y_true, y=y_pred, line_kws={\"color\": \"red\", \"linewidth\": 1}, scatter=False, ax=axes[i])\n",
    "    sns.despine (top=True, right=True, ax=axes[i])\n",
    "    axes[i].set_xlabel('Observed Cognitive Ability (Z)', fontsize=15)\n",
    "    axes[i].set_ylabel('Predicted Cognitive Ability (Z)', fontsize=15)\n",
    "    axes[i].tick_params(axis='x', labelsize=16)\n",
    "    axes[i].tick_params(axis='y', labelsize=16)\n",
    "    axes[i].set_title(f'Fold {fold}', fontsize=20, y=1.1)\n",
    "    \n",
    "    # Annotate the plot with Pearson correlation and R² score\n",
    "    axes[i].text(0.05, 1.0, f'$r$ = {corr.round(2)}', transform=axes[i].transAxes, fontsize=15)\n",
    "    axes[i].text(0.05, 0.91, f'$R$² = {r2.round(2)}', transform=axes[i].transAxes, fontsize=15)\n",
    "    axes[i].xaxis.set_major_locator(MultipleLocator(1))\n",
    "    \n",
    "# Remove the empty subplot (if any)\n",
    "for j in range(i + 1, len(axes)):\n",
    "    fig.delaxes(axes[j])\n",
    "\n",
    "plt.tight_layout()\n",
    "\n",
    "plt.savefig(\"/Plots_and_Tables/MH/greal_gpred_r_MH_5Folds.png\",\n",
    "            bbox_inches=\"tight\", \n",
    "            pad_inches=1, \n",
    "            transparent=False, \n",
    "            facecolor=\"w\", \n",
    "            edgecolor='w', \n",
    "            orientation='landscape') \n",
    "\n",
    "plt.show()"
   ]
  },
  {
   "cell_type": "markdown",
   "metadata": {},
   "source": [
    "## Extract and visualize feature loadings for each fold"
   ]
  },
  {
   "cell_type": "code",
   "execution_count": null,
   "metadata": {},
   "outputs": [],
   "source": [
    "# Extract loadings\n",
    "folds = [\"0\", \"1\", \"2\", \"3\", \"4\"]\n",
    "mh_names = mh.drop(columns=['eid'])\n",
    "mh_names.columns\n",
    "loadings = {}\n",
    "for fold in folds:\n",
    "        with open(f'Cog-Ment/PLS/2024/mental_health/folds/fold_{fold}/models/mh_pls_model_fold_{fold}.pkl', \"rb\") as f:\n",
    "                model = pickle.load(f)\n",
    "        loading = pd.DataFrame(model.best_estimator_.x_loadings_, columns = [f'Component {i+1}' for i in range(0, model.best_estimator_.x_loadings_.shape[1])])\n",
    "        loadings[f'Fold_{fold}'] = loading\n",
    "\n",
    "loadings_fold_0 = pd.concat([pd.DataFrame(mh_names.columns), loadings['Fold_0']], axis=1)\n",
    "loadings_fold_0 = loadings_fold_0.rename(columns = {0: 'Features'})\n",
    "\n",
    "loadings_fold_1 = pd.concat([pd.DataFrame(mh_names.columns), loadings['Fold_1']], axis=1)\n",
    "loadings_fold_1 = loadings_fold_1.rename(columns = {0: 'Features'})\n",
    "\n",
    "loadings_fold_2 = pd.concat([pd.DataFrame(mh_names.columns), loadings['Fold_2']], axis=1)\n",
    "loadings_fold_2 = loadings_fold_2.rename(columns = {0: 'Features'})\n",
    "\n",
    "loadings_fold_3 = pd.concat([pd.DataFrame(mh_names.columns), loadings['Fold_3']], axis=1)\n",
    "loadings_fold_3 = loadings_fold_3.rename(columns = {0: 'Features'})\n",
    "\n",
    "loadings_fold_4 = pd.concat([pd.DataFrame(mh_names.columns), loadings['Fold_4']], axis=1)\n",
    "loadings_fold_4 = loadings_fold_4.rename(columns = {0: 'Features'})"
   ]
  },
  {
   "cell_type": "code",
   "execution_count": null,
   "metadata": {},
   "outputs": [],
   "source": [
    "# Loading plot Fold 0: first 10 components, sorted\n",
    "for component in loadings_fold_0.columns[1:10]:\n",
    "    loadings_fold_0_sorted = loadings_fold_0.sort_values(by=component, ascending=False)\n",
    "    \n",
    "    plt.figure(figsize=(20, 20))  # Adjust the figure size as needed\n",
    "    plt.barh(loadings_fold_0_sorted['Features'], loadings_fold_0_sorted[component], color='skyblue')\n",
    "    plt.xlabel('Loadings', fontsize=12)\n",
    "    #plt.ylabel('Features', fontsize=20)\n",
    "    plt.title(f'Loading Plot for {component}', fontsize=30)\n",
    "    plt.gca().invert_yaxis()  # Invert the y-axis to have the first feature at the top\n",
    "    plt.tight_layout()  # Adjust layout to fit all labels\n",
    "    plt.show()"
   ]
  },
  {
   "cell_type": "markdown",
   "metadata": {},
   "source": [
    "# Check correlations between g-factor and cognitive test scores to verify that g-factor adequately reflects test performance"
   ]
  },
  {
   "cell_type": "markdown",
   "metadata": {},
   "source": [
    "It is +/- xpected that g-factor correlates negatively with time variables, such as reaction time and TMT performance, which would mean 'the higher [reaction] time, the slower, the worse', as well as with the number of incorrect matches in Pairs matching task, which would also mean 'the more incorrect, the worse'."
   ]
  },
  {
   "cell_type": "code",
   "execution_count": null,
   "metadata": {},
   "outputs": [],
   "source": [
    "y_train_scaled = pd.read_csv('Cog-Ment/PLS/2024/mental_health/single_split/y_train_scaled.csv')\n",
    "g_cog_corr = {}\n",
    "for col in pd.DataFrame(y_train_scaled, columns = y_train_scaled.columns).columns:\n",
    "    g_cog_corr[col] = pd.DataFrame(y_train_scaled, columns = y_train_scaled.columns)[col].corr(g_train['g'])\n",
    "g_cog_corr"
   ]
  },
  {
   "cell_type": "code",
   "execution_count": null,
   "metadata": {},
   "outputs": [],
   "source": [
    "y_train_0 = pd.read_csv(\"Cog-Ment/g_factor_5_folds_python/fold_0/train_scaled_fold_0.csv\")\n",
    "g_train_0 = pd.read_csv('Cog-Ment/PLS/g_factor/g_train_with_id_fold_0.csv').drop(columns='eid')\n",
    "\n",
    "y_train_1 = pd.read_csv(\"Cog-Ment/g_factor_5_folds_python/fold_1/train_scaled_fold_1.csv\")\n",
    "g_train_1 = pd.read_csv('Cog-Ment/PLS/g_factor/g_train_with_id_fold_1.csv').drop(columns='eid')\n",
    "\n",
    "y_train_2 = pd.read_csv(\"Cog-Ment/g_factor_5_folds_python/fold_2/train_scaled_fold_2.csv\")\n",
    "g_train_2 = pd.read_csv('Cog-Ment/PLS/g_factor/g_train_with_id_fold_2.csv').drop(columns='eid')\n",
    "\n",
    "y_train_3 = pd.read_csv(\"Cog-Ment/g_factor_5_folds_python/fold_3/train_scaled_fold_3.csv\")\n",
    "g_train_3 = pd.read_csv('Cog-Ment/PLS/g_factor/g_train_with_id_fold_3.csv').drop(columns='eid')\n",
    "\n",
    "y_train_4 = pd.read_csv(\"Cog-Ment/g_factor_5_folds_python/fold_4/train_scaled_fold_4.csv\")\n",
    "g_train_4 = pd.read_csv('Cog-Ment/PLS/g_factor/g_train_with_id_fold_4.csv').drop(columns='eid')"
   ]
  },
  {
   "cell_type": "code",
   "execution_count": null,
   "metadata": {},
   "outputs": [],
   "source": [
    "g_cog_corr_0 = {}\n",
    "for col in pd.DataFrame(y_train_0, columns = y_train_0.columns).columns:\n",
    "    g_cog_corr_0[col] = pd.DataFrame(y_train_0, columns = y_train_0.columns)[col].corr(g_train_0['g'])\n",
    "g_cog_corr_0"
   ]
  },
  {
   "cell_type": "code",
   "execution_count": null,
   "metadata": {},
   "outputs": [],
   "source": [
    "g_cog_corr_1 = {}\n",
    "for col in pd.DataFrame(y_train_1, columns = y_train_1.columns).columns:\n",
    "    g_cog_corr_1[col] = pd.DataFrame(y_train_1, columns = y_train_1.columns)[col].corr(g_train_1['g'])\n",
    "g_cog_corr_1"
   ]
  },
  {
   "cell_type": "code",
   "execution_count": null,
   "metadata": {},
   "outputs": [],
   "source": [
    "g_cog_corr_2 = {}\n",
    "for col in pd.DataFrame(y_train_2, columns = y_train_2.columns).columns:\n",
    "    g_cog_corr_2[col] = pd.DataFrame(y_train_2, columns = y_train_2.columns)[col].corr(g_train_2['g'])\n",
    "g_cog_corr_2"
   ]
  },
  {
   "cell_type": "code",
   "execution_count": null,
   "metadata": {},
   "outputs": [],
   "source": [
    "g_cog_corr_4 = {}\n",
    "for col in pd.DataFrame(y_train_4, columns = y_train_4.columns).columns:\n",
    "    g_cog_corr_4[col] = pd.DataFrame(y_train_4, columns = y_train_4.columns)[col].corr(g_train_4['g'])\n",
    "g_cog_corr_4"
   ]
  }
 ],
 "metadata": {
  "kernelspec": {
   "display_name": "ib",
   "language": "python",
   "name": "python3"
  },
  "language_info": {
   "codemirror_mode": {
    "name": "ipython",
    "version": 3
   },
   "file_extension": ".py",
   "mimetype": "text/x-python",
   "name": "python",
   "nbconvert_exporter": "python",
   "pygments_lexer": "ipython3",
   "version": "3.11.11"
  }
 },
 "nbformat": 4,
 "nbformat_minor": 2
}
